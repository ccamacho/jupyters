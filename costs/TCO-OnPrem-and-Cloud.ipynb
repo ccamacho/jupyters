{
 "cells": [
  {
   "cell_type": "markdown",
   "id": "5d57f834",
   "metadata": {},
   "source": [
    "<center><a href=\"https://www.nvidia.com/en-us/training/\"><img src=\"https://dli-lms.s3.amazonaws.com/assets/general/DLI_Header_White.png\" width=\"400\" height=\"186\" /></a></center>\n",
    "<br>"
   ]
  },
  {
   "cell_type": "markdown",
   "id": "ccb7d191",
   "metadata": {},
   "source": [
    "# <font color=\"#76b900\">TCO For On-Premise and Cloud Inference</font>"
   ]
  },
  {
   "cell_type": "markdown",
   "id": "1a770082",
   "metadata": {},
   "source": [
    "In this notebook, you will learn how to estimate the Total Cost of Ownership (from now on `TCO`) for inference workloads, for both on-premises (from now on on-prem) and on the cloud. With LLMs, the basic unit of outcome is the token. One token can be more or less expensive depending on the LLM size and the other choices we discussed in previous notebooks. Generally, inference configurations with higher throughput lead to lower cost per token.\n",
    "\n",
    "## Learning Objectives\n",
    "- Estimate the on-premise annual cost under various assumptions.\n",
    "- Calculate the cost of using cloud APIs for inference.\n",
    "- Compare the costs between on-premise and cloud deployments with attention to inherent pros and cons.\n",
    "\n",
    "## Table of Contents\n",
    "\n",
    "- [**Starting Assumptions**](#Starting-Assumptions)\n",
    "- [**Peak vs Average Prompts**](#Peak-vs-Average-Prompts)\n",
    "- [**On-Premise Cost Per Year**](#On-Premise-Cost-Per-Year)\n",
    "- [**Cloud API Cost Per 1k Prompts**](#Cloud-API-Cost-Per-1k-Prompts)\n",
    "- [**[EXERCISE] Comparing On-Prem vs Cloud Costs**](#[EXERCISE]-Comparing-On-Prem-vs-Cloud-Costs)"
   ]
  },
  {
   "cell_type": "markdown",
   "id": "5f5b50db",
   "metadata": {},
   "source": [
    "<br><hr>\n",
    "\n",
    "## **Starting Assumptions**\n",
    "\n",
    "We start by assuming that you have computed the number of GPUs needed for your use case, following the logic explained in the previous notebooks. Basically, once you select the configuration that returns a number of prompts per second per 8 GPUs, you can compute the number of DGX systems (each with 8 GPUs) as follows: \n",
    "- Take the requests per second that your application is expected to receive.\n",
    "- Divide it by the prompts per second per 8 GPUs of your configuration. "
   ]
  },
  {
   "cell_type": "code",
   "execution_count": 28,
   "id": "7a102ba9",
   "metadata": {},
   "outputs": [
    {
     "name": "stdout",
     "output_type": "stream",
     "text": [
      "The required number of servers is 4.8\n"
     ]
    }
   ],
   "source": [
    "target_prompts_per_second_per_system = 200\n",
    "prompts_per_second_per_8_gpus = 41.6\n",
    "num_dgxs_needed = target_prompts_per_second_per_system / prompts_per_second_per_8_gpus\n",
    "\n",
    "print(f\"The required number of servers is {num_dgxs_needed:.1f}\")"
   ]
  },
  {
   "cell_type": "markdown",
   "id": "725afb51",
   "metadata": {},
   "source": [
    "<br><hr>\n",
    "\n",
    "## **Peak vs Average Prompts**\n",
    "\n",
    "When observing the daily distribution of requests for a production application, there are usually peaks and valleys. The requests may decrease during the night and then spike up during working hours. However, for our estimation of the number of DGX systems needed, we need a constant reference of requests per second, which in this case we set to 200.\n",
    "\n",
    "Our recommendation is to set that reference to 95% of the expected peak requests per second. This percentage aims to balance the periods where the GPUs are underutilized (the valleys) and the times when the system is at its peak. If we choose a percentage closer to 100%, our average price per token increases since more GPUs are underutilized during the valleys. If the percentage is lower, the average price per token decreases, but during the peaks we may need to relax the latency conditions to keep up with the demand."
   ]
  },
  {
   "cell_type": "markdown",
   "id": "8eba00f6",
   "metadata": {},
   "source": [
    "\n",
    "\n",
    "In case you only have an estimate of the average requests per second, we recommend using the [**Poisson distribution**](https://en.wikipedia.org/wiki/Poisson_distribution) to estimate the peak requests. This is a common distribution to model the number of requests in many applications such as web server traffic, call centers or network packets. You can use this code to visualize a distribution and compute a particular percentage of the peak requests, given the average:"
   ]
  },
  {
   "cell_type": "code",
   "execution_count": 29,
   "id": "d7f92322",
   "metadata": {},
   "outputs": [
    {
     "data": {
      "application/vnd.plotly.v1+json": {
       "config": {
        "plotlyServerURL": "https://plot.ly"
       },
       "data": [
        {
         "name": "Actual Per Second Rate",
         "type": "scatter",
         "x": [
          0,
          1,
          2,
          3,
          4,
          5,
          6,
          7,
          8,
          9,
          10,
          11,
          12,
          13,
          14,
          15,
          16,
          17,
          18,
          19,
          20,
          21,
          22,
          23,
          24,
          25,
          26,
          27,
          28,
          29,
          30,
          31,
          32,
          33,
          34,
          35,
          36,
          37,
          38,
          39,
          40,
          41,
          42,
          43,
          44,
          45,
          46,
          47,
          48,
          49,
          50,
          51,
          52,
          53,
          54,
          55,
          56,
          57,
          58,
          59,
          60,
          61,
          62,
          63,
          64,
          65,
          66,
          67,
          68,
          69,
          70,
          71,
          72,
          73,
          74,
          75,
          76,
          77,
          78,
          79,
          80,
          81,
          82,
          83,
          84,
          85,
          86,
          87,
          88,
          89,
          90,
          91,
          92,
          93,
          94,
          95,
          96,
          97,
          98,
          99,
          100,
          101,
          102,
          103,
          104,
          105,
          106,
          107,
          108,
          109,
          110,
          111,
          112,
          113,
          114,
          115,
          116,
          117,
          118,
          119,
          120,
          121,
          122,
          123,
          124,
          125,
          126,
          127,
          128,
          129,
          130,
          131,
          132,
          133,
          134,
          135,
          136,
          137,
          138,
          139,
          140,
          141,
          142,
          143,
          144,
          145,
          146,
          147,
          148,
          149,
          150,
          151,
          152,
          153,
          154,
          155,
          156,
          157,
          158,
          159,
          160,
          161,
          162,
          163,
          164,
          165,
          166,
          167,
          168,
          169,
          170,
          171,
          172,
          173,
          174,
          175,
          176,
          177,
          178,
          179,
          180,
          181,
          182,
          183,
          184,
          185,
          186,
          187,
          188,
          189,
          190,
          191,
          192,
          193,
          194,
          195,
          196,
          197,
          198,
          199,
          200,
          201,
          202,
          203,
          204,
          205,
          206,
          207,
          208,
          209,
          210,
          211,
          212,
          213,
          214,
          215,
          216,
          217,
          218,
          219,
          220,
          221,
          222,
          223,
          224,
          225,
          226,
          227,
          228,
          229,
          230,
          231,
          232,
          233,
          234,
          235,
          236,
          237,
          238,
          239,
          240,
          241,
          242,
          243,
          244,
          245,
          246,
          247,
          248,
          249,
          250,
          251,
          252,
          253,
          254,
          255,
          256,
          257,
          258,
          259,
          260,
          261,
          262,
          263,
          264,
          265,
          266,
          267,
          268,
          269,
          270,
          271,
          272,
          273,
          274,
          275,
          276,
          277,
          278,
          279,
          280,
          281,
          282,
          283,
          284,
          285,
          286,
          287,
          288,
          289,
          290,
          291,
          292,
          293,
          294,
          295,
          296,
          297,
          298,
          299
         ],
         "y": [
          177,
          187,
          222,
          198,
          187,
          226,
          193,
          184,
          201,
          207,
          187,
          206,
          181,
          201,
          194,
          202,
          214,
          221,
          186,
          217,
          242,
          195,
          205,
          202,
          171,
          208,
          176,
          190,
          203,
          186,
          194,
          227,
          203,
          220,
          195,
          223,
          195,
          214,
          184,
          197,
          219,
          186,
          209,
          191,
          198,
          230,
          203,
          202,
          178,
          214,
          216,
          194,
          199,
          214,
          212,
          195,
          187,
          190,
          202,
          203,
          218,
          175,
          201,
          220,
          195,
          199,
          222,
          185,
          210,
          174,
          207,
          170,
          190,
          197,
          211,
          186,
          231,
          187,
          199,
          197,
          168,
          229,
          213,
          215,
          212,
          168,
          199,
          180,
          202,
          194,
          190,
          199,
          212,
          209,
          212,
          224,
          190,
          194,
          189,
          189,
          196,
          186,
          210,
          191,
          201,
          188,
          226,
          187,
          197,
          174,
          192,
          180,
          201,
          204,
          179,
          218,
          212,
          229,
          207,
          201,
          202,
          206,
          210,
          195,
          198,
          194,
          172,
          196,
          195,
          187,
          208,
          203,
          208,
          191,
          182,
          200,
          219,
          212,
          189,
          221,
          218,
          208,
          215,
          203,
          190,
          195,
          192,
          181,
          173,
          205,
          194,
          188,
          229,
          192,
          188,
          196,
          190,
          189,
          222,
          203,
          223,
          218,
          201,
          194,
          193,
          199,
          205,
          239,
          220,
          198,
          218,
          202,
          218,
          184,
          207,
          209,
          198,
          192,
          212,
          210,
          181,
          187,
          206,
          227,
          201,
          203,
          202,
          173,
          211,
          198,
          195,
          196,
          189,
          208,
          201,
          183,
          229,
          204,
          197,
          208,
          189,
          206,
          212,
          217,
          181,
          182,
          191,
          184,
          242,
          190,
          187,
          208,
          210,
          228,
          189,
          174,
          212,
          212,
          188,
          197,
          206,
          199,
          183,
          182,
          201,
          201,
          184,
          188,
          198,
          221,
          194,
          181,
          225,
          178,
          198,
          190,
          187,
          204,
          198,
          185,
          185,
          192,
          202,
          188,
          198,
          209,
          198,
          206,
          212,
          201,
          218,
          195,
          222,
          175,
          216,
          177,
          212,
          194,
          207,
          201,
          215,
          203,
          211,
          254,
          194,
          188,
          208,
          194,
          202,
          194,
          203,
          208,
          200,
          190,
          208,
          170,
          184,
          225,
          194,
          200,
          182,
          179,
          209,
          173,
          212,
          191,
          192,
          237,
          207,
          216,
          174,
          206,
          210,
          180,
          204,
          198,
          213,
          206,
          183,
          229
         ]
        },
        {
         "mode": "lines",
         "name": "Average Over 300 Seconds",
         "type": "scatter",
         "x": [
          0,
          300
         ],
         "y": [
          200.19333333333333,
          200.19333333333333
         ]
        },
        {
         "mode": "lines",
         "name": "Max Over 300 Seconds",
         "type": "scatter",
         "x": [
          0,
          300
         ],
         "y": [
          254,
          254
         ]
        },
        {
         "mode": "lines",
         "name": "95-th Percentile Over 300 Seconds",
         "type": "scatter",
         "x": [
          0,
          300
         ],
         "y": [
          226.05,
          226.05
         ]
        }
       ],
       "layout": {
        "template": {
         "data": {
          "bar": [
           {
            "error_x": {
             "color": "#2a3f5f"
            },
            "error_y": {
             "color": "#2a3f5f"
            },
            "marker": {
             "line": {
              "color": "#E5ECF6",
              "width": 0.5
             },
             "pattern": {
              "fillmode": "overlay",
              "size": 10,
              "solidity": 0.2
             }
            },
            "type": "bar"
           }
          ],
          "barpolar": [
           {
            "marker": {
             "line": {
              "color": "#E5ECF6",
              "width": 0.5
             },
             "pattern": {
              "fillmode": "overlay",
              "size": 10,
              "solidity": 0.2
             }
            },
            "type": "barpolar"
           }
          ],
          "carpet": [
           {
            "aaxis": {
             "endlinecolor": "#2a3f5f",
             "gridcolor": "white",
             "linecolor": "white",
             "minorgridcolor": "white",
             "startlinecolor": "#2a3f5f"
            },
            "baxis": {
             "endlinecolor": "#2a3f5f",
             "gridcolor": "white",
             "linecolor": "white",
             "minorgridcolor": "white",
             "startlinecolor": "#2a3f5f"
            },
            "type": "carpet"
           }
          ],
          "choropleth": [
           {
            "colorbar": {
             "outlinewidth": 0,
             "ticks": ""
            },
            "type": "choropleth"
           }
          ],
          "contour": [
           {
            "colorbar": {
             "outlinewidth": 0,
             "ticks": ""
            },
            "colorscale": [
             [
              0,
              "#0d0887"
             ],
             [
              0.1111111111111111,
              "#46039f"
             ],
             [
              0.2222222222222222,
              "#7201a8"
             ],
             [
              0.3333333333333333,
              "#9c179e"
             ],
             [
              0.4444444444444444,
              "#bd3786"
             ],
             [
              0.5555555555555556,
              "#d8576b"
             ],
             [
              0.6666666666666666,
              "#ed7953"
             ],
             [
              0.7777777777777778,
              "#fb9f3a"
             ],
             [
              0.8888888888888888,
              "#fdca26"
             ],
             [
              1,
              "#f0f921"
             ]
            ],
            "type": "contour"
           }
          ],
          "contourcarpet": [
           {
            "colorbar": {
             "outlinewidth": 0,
             "ticks": ""
            },
            "type": "contourcarpet"
           }
          ],
          "heatmap": [
           {
            "colorbar": {
             "outlinewidth": 0,
             "ticks": ""
            },
            "colorscale": [
             [
              0,
              "#0d0887"
             ],
             [
              0.1111111111111111,
              "#46039f"
             ],
             [
              0.2222222222222222,
              "#7201a8"
             ],
             [
              0.3333333333333333,
              "#9c179e"
             ],
             [
              0.4444444444444444,
              "#bd3786"
             ],
             [
              0.5555555555555556,
              "#d8576b"
             ],
             [
              0.6666666666666666,
              "#ed7953"
             ],
             [
              0.7777777777777778,
              "#fb9f3a"
             ],
             [
              0.8888888888888888,
              "#fdca26"
             ],
             [
              1,
              "#f0f921"
             ]
            ],
            "type": "heatmap"
           }
          ],
          "heatmapgl": [
           {
            "colorbar": {
             "outlinewidth": 0,
             "ticks": ""
            },
            "colorscale": [
             [
              0,
              "#0d0887"
             ],
             [
              0.1111111111111111,
              "#46039f"
             ],
             [
              0.2222222222222222,
              "#7201a8"
             ],
             [
              0.3333333333333333,
              "#9c179e"
             ],
             [
              0.4444444444444444,
              "#bd3786"
             ],
             [
              0.5555555555555556,
              "#d8576b"
             ],
             [
              0.6666666666666666,
              "#ed7953"
             ],
             [
              0.7777777777777778,
              "#fb9f3a"
             ],
             [
              0.8888888888888888,
              "#fdca26"
             ],
             [
              1,
              "#f0f921"
             ]
            ],
            "type": "heatmapgl"
           }
          ],
          "histogram": [
           {
            "marker": {
             "pattern": {
              "fillmode": "overlay",
              "size": 10,
              "solidity": 0.2
             }
            },
            "type": "histogram"
           }
          ],
          "histogram2d": [
           {
            "colorbar": {
             "outlinewidth": 0,
             "ticks": ""
            },
            "colorscale": [
             [
              0,
              "#0d0887"
             ],
             [
              0.1111111111111111,
              "#46039f"
             ],
             [
              0.2222222222222222,
              "#7201a8"
             ],
             [
              0.3333333333333333,
              "#9c179e"
             ],
             [
              0.4444444444444444,
              "#bd3786"
             ],
             [
              0.5555555555555556,
              "#d8576b"
             ],
             [
              0.6666666666666666,
              "#ed7953"
             ],
             [
              0.7777777777777778,
              "#fb9f3a"
             ],
             [
              0.8888888888888888,
              "#fdca26"
             ],
             [
              1,
              "#f0f921"
             ]
            ],
            "type": "histogram2d"
           }
          ],
          "histogram2dcontour": [
           {
            "colorbar": {
             "outlinewidth": 0,
             "ticks": ""
            },
            "colorscale": [
             [
              0,
              "#0d0887"
             ],
             [
              0.1111111111111111,
              "#46039f"
             ],
             [
              0.2222222222222222,
              "#7201a8"
             ],
             [
              0.3333333333333333,
              "#9c179e"
             ],
             [
              0.4444444444444444,
              "#bd3786"
             ],
             [
              0.5555555555555556,
              "#d8576b"
             ],
             [
              0.6666666666666666,
              "#ed7953"
             ],
             [
              0.7777777777777778,
              "#fb9f3a"
             ],
             [
              0.8888888888888888,
              "#fdca26"
             ],
             [
              1,
              "#f0f921"
             ]
            ],
            "type": "histogram2dcontour"
           }
          ],
          "mesh3d": [
           {
            "colorbar": {
             "outlinewidth": 0,
             "ticks": ""
            },
            "type": "mesh3d"
           }
          ],
          "parcoords": [
           {
            "line": {
             "colorbar": {
              "outlinewidth": 0,
              "ticks": ""
             }
            },
            "type": "parcoords"
           }
          ],
          "pie": [
           {
            "automargin": true,
            "type": "pie"
           }
          ],
          "scatter": [
           {
            "fillpattern": {
             "fillmode": "overlay",
             "size": 10,
             "solidity": 0.2
            },
            "type": "scatter"
           }
          ],
          "scatter3d": [
           {
            "line": {
             "colorbar": {
              "outlinewidth": 0,
              "ticks": ""
             }
            },
            "marker": {
             "colorbar": {
              "outlinewidth": 0,
              "ticks": ""
             }
            },
            "type": "scatter3d"
           }
          ],
          "scattercarpet": [
           {
            "marker": {
             "colorbar": {
              "outlinewidth": 0,
              "ticks": ""
             }
            },
            "type": "scattercarpet"
           }
          ],
          "scattergeo": [
           {
            "marker": {
             "colorbar": {
              "outlinewidth": 0,
              "ticks": ""
             }
            },
            "type": "scattergeo"
           }
          ],
          "scattergl": [
           {
            "marker": {
             "colorbar": {
              "outlinewidth": 0,
              "ticks": ""
             }
            },
            "type": "scattergl"
           }
          ],
          "scattermapbox": [
           {
            "marker": {
             "colorbar": {
              "outlinewidth": 0,
              "ticks": ""
             }
            },
            "type": "scattermapbox"
           }
          ],
          "scatterpolar": [
           {
            "marker": {
             "colorbar": {
              "outlinewidth": 0,
              "ticks": ""
             }
            },
            "type": "scatterpolar"
           }
          ],
          "scatterpolargl": [
           {
            "marker": {
             "colorbar": {
              "outlinewidth": 0,
              "ticks": ""
             }
            },
            "type": "scatterpolargl"
           }
          ],
          "scatterternary": [
           {
            "marker": {
             "colorbar": {
              "outlinewidth": 0,
              "ticks": ""
             }
            },
            "type": "scatterternary"
           }
          ],
          "surface": [
           {
            "colorbar": {
             "outlinewidth": 0,
             "ticks": ""
            },
            "colorscale": [
             [
              0,
              "#0d0887"
             ],
             [
              0.1111111111111111,
              "#46039f"
             ],
             [
              0.2222222222222222,
              "#7201a8"
             ],
             [
              0.3333333333333333,
              "#9c179e"
             ],
             [
              0.4444444444444444,
              "#bd3786"
             ],
             [
              0.5555555555555556,
              "#d8576b"
             ],
             [
              0.6666666666666666,
              "#ed7953"
             ],
             [
              0.7777777777777778,
              "#fb9f3a"
             ],
             [
              0.8888888888888888,
              "#fdca26"
             ],
             [
              1,
              "#f0f921"
             ]
            ],
            "type": "surface"
           }
          ],
          "table": [
           {
            "cells": {
             "fill": {
              "color": "#EBF0F8"
             },
             "line": {
              "color": "white"
             }
            },
            "header": {
             "fill": {
              "color": "#C8D4E3"
             },
             "line": {
              "color": "white"
             }
            },
            "type": "table"
           }
          ]
         },
         "layout": {
          "annotationdefaults": {
           "arrowcolor": "#2a3f5f",
           "arrowhead": 0,
           "arrowwidth": 1
          },
          "autotypenumbers": "strict",
          "coloraxis": {
           "colorbar": {
            "outlinewidth": 0,
            "ticks": ""
           }
          },
          "colorscale": {
           "diverging": [
            [
             0,
             "#8e0152"
            ],
            [
             0.1,
             "#c51b7d"
            ],
            [
             0.2,
             "#de77ae"
            ],
            [
             0.3,
             "#f1b6da"
            ],
            [
             0.4,
             "#fde0ef"
            ],
            [
             0.5,
             "#f7f7f7"
            ],
            [
             0.6,
             "#e6f5d0"
            ],
            [
             0.7,
             "#b8e186"
            ],
            [
             0.8,
             "#7fbc41"
            ],
            [
             0.9,
             "#4d9221"
            ],
            [
             1,
             "#276419"
            ]
           ],
           "sequential": [
            [
             0,
             "#0d0887"
            ],
            [
             0.1111111111111111,
             "#46039f"
            ],
            [
             0.2222222222222222,
             "#7201a8"
            ],
            [
             0.3333333333333333,
             "#9c179e"
            ],
            [
             0.4444444444444444,
             "#bd3786"
            ],
            [
             0.5555555555555556,
             "#d8576b"
            ],
            [
             0.6666666666666666,
             "#ed7953"
            ],
            [
             0.7777777777777778,
             "#fb9f3a"
            ],
            [
             0.8888888888888888,
             "#fdca26"
            ],
            [
             1,
             "#f0f921"
            ]
           ],
           "sequentialminus": [
            [
             0,
             "#0d0887"
            ],
            [
             0.1111111111111111,
             "#46039f"
            ],
            [
             0.2222222222222222,
             "#7201a8"
            ],
            [
             0.3333333333333333,
             "#9c179e"
            ],
            [
             0.4444444444444444,
             "#bd3786"
            ],
            [
             0.5555555555555556,
             "#d8576b"
            ],
            [
             0.6666666666666666,
             "#ed7953"
            ],
            [
             0.7777777777777778,
             "#fb9f3a"
            ],
            [
             0.8888888888888888,
             "#fdca26"
            ],
            [
             1,
             "#f0f921"
            ]
           ]
          },
          "colorway": [
           "#636efa",
           "#EF553B",
           "#00cc96",
           "#ab63fa",
           "#FFA15A",
           "#19d3f3",
           "#FF6692",
           "#B6E880",
           "#FF97FF",
           "#FECB52"
          ],
          "font": {
           "color": "#2a3f5f"
          },
          "geo": {
           "bgcolor": "white",
           "lakecolor": "white",
           "landcolor": "#E5ECF6",
           "showlakes": true,
           "showland": true,
           "subunitcolor": "white"
          },
          "hoverlabel": {
           "align": "left"
          },
          "hovermode": "closest",
          "mapbox": {
           "style": "light"
          },
          "paper_bgcolor": "white",
          "plot_bgcolor": "#E5ECF6",
          "polar": {
           "angularaxis": {
            "gridcolor": "white",
            "linecolor": "white",
            "ticks": ""
           },
           "bgcolor": "#E5ECF6",
           "radialaxis": {
            "gridcolor": "white",
            "linecolor": "white",
            "ticks": ""
           }
          },
          "scene": {
           "xaxis": {
            "backgroundcolor": "#E5ECF6",
            "gridcolor": "white",
            "gridwidth": 2,
            "linecolor": "white",
            "showbackground": true,
            "ticks": "",
            "zerolinecolor": "white"
           },
           "yaxis": {
            "backgroundcolor": "#E5ECF6",
            "gridcolor": "white",
            "gridwidth": 2,
            "linecolor": "white",
            "showbackground": true,
            "ticks": "",
            "zerolinecolor": "white"
           },
           "zaxis": {
            "backgroundcolor": "#E5ECF6",
            "gridcolor": "white",
            "gridwidth": 2,
            "linecolor": "white",
            "showbackground": true,
            "ticks": "",
            "zerolinecolor": "white"
           }
          },
          "shapedefaults": {
           "line": {
            "color": "#2a3f5f"
           }
          },
          "ternary": {
           "aaxis": {
            "gridcolor": "white",
            "linecolor": "white",
            "ticks": ""
           },
           "baxis": {
            "gridcolor": "white",
            "linecolor": "white",
            "ticks": ""
           },
           "bgcolor": "#E5ECF6",
           "caxis": {
            "gridcolor": "white",
            "linecolor": "white",
            "ticks": ""
           }
          },
          "title": {
           "x": 0.05
          },
          "xaxis": {
           "automargin": true,
           "gridcolor": "white",
           "linecolor": "white",
           "ticks": "",
           "title": {
            "standoff": 15
           },
           "zerolinecolor": "white",
           "zerolinewidth": 2
          },
          "yaxis": {
           "automargin": true,
           "gridcolor": "white",
           "linecolor": "white",
           "ticks": "",
           "title": {
            "standoff": 15
           },
           "zerolinecolor": "white",
           "zerolinewidth": 2
          }
         }
        },
        "xaxis": {
         "title": {
          "text": "Time (s)"
         }
        },
        "yaxis": {
         "title": {
          "text": "Request Rate (1/s)"
         }
        }
       }
      },
      "text/html": [
       "<div>                            <div id=\"36dc40be-5f11-4a1f-aabb-bf0d1d791d0a\" class=\"plotly-graph-div\" style=\"height:525px; width:100%;\"></div>            <script type=\"text/javascript\">                require([\"plotly\"], function(Plotly) {                    window.PLOTLYENV=window.PLOTLYENV || {};                                    if (document.getElementById(\"36dc40be-5f11-4a1f-aabb-bf0d1d791d0a\")) {                    Plotly.newPlot(                        \"36dc40be-5f11-4a1f-aabb-bf0d1d791d0a\",                        [{\"name\":\"Actual Per Second Rate\",\"x\":[0,1,2,3,4,5,6,7,8,9,10,11,12,13,14,15,16,17,18,19,20,21,22,23,24,25,26,27,28,29,30,31,32,33,34,35,36,37,38,39,40,41,42,43,44,45,46,47,48,49,50,51,52,53,54,55,56,57,58,59,60,61,62,63,64,65,66,67,68,69,70,71,72,73,74,75,76,77,78,79,80,81,82,83,84,85,86,87,88,89,90,91,92,93,94,95,96,97,98,99,100,101,102,103,104,105,106,107,108,109,110,111,112,113,114,115,116,117,118,119,120,121,122,123,124,125,126,127,128,129,130,131,132,133,134,135,136,137,138,139,140,141,142,143,144,145,146,147,148,149,150,151,152,153,154,155,156,157,158,159,160,161,162,163,164,165,166,167,168,169,170,171,172,173,174,175,176,177,178,179,180,181,182,183,184,185,186,187,188,189,190,191,192,193,194,195,196,197,198,199,200,201,202,203,204,205,206,207,208,209,210,211,212,213,214,215,216,217,218,219,220,221,222,223,224,225,226,227,228,229,230,231,232,233,234,235,236,237,238,239,240,241,242,243,244,245,246,247,248,249,250,251,252,253,254,255,256,257,258,259,260,261,262,263,264,265,266,267,268,269,270,271,272,273,274,275,276,277,278,279,280,281,282,283,284,285,286,287,288,289,290,291,292,293,294,295,296,297,298,299],\"y\":[177,187,222,198,187,226,193,184,201,207,187,206,181,201,194,202,214,221,186,217,242,195,205,202,171,208,176,190,203,186,194,227,203,220,195,223,195,214,184,197,219,186,209,191,198,230,203,202,178,214,216,194,199,214,212,195,187,190,202,203,218,175,201,220,195,199,222,185,210,174,207,170,190,197,211,186,231,187,199,197,168,229,213,215,212,168,199,180,202,194,190,199,212,209,212,224,190,194,189,189,196,186,210,191,201,188,226,187,197,174,192,180,201,204,179,218,212,229,207,201,202,206,210,195,198,194,172,196,195,187,208,203,208,191,182,200,219,212,189,221,218,208,215,203,190,195,192,181,173,205,194,188,229,192,188,196,190,189,222,203,223,218,201,194,193,199,205,239,220,198,218,202,218,184,207,209,198,192,212,210,181,187,206,227,201,203,202,173,211,198,195,196,189,208,201,183,229,204,197,208,189,206,212,217,181,182,191,184,242,190,187,208,210,228,189,174,212,212,188,197,206,199,183,182,201,201,184,188,198,221,194,181,225,178,198,190,187,204,198,185,185,192,202,188,198,209,198,206,212,201,218,195,222,175,216,177,212,194,207,201,215,203,211,254,194,188,208,194,202,194,203,208,200,190,208,170,184,225,194,200,182,179,209,173,212,191,192,237,207,216,174,206,210,180,204,198,213,206,183,229],\"type\":\"scatter\"},{\"mode\":\"lines\",\"name\":\"Average Over 300 Seconds\",\"x\":[0,300],\"y\":[200.19333333333333,200.19333333333333],\"type\":\"scatter\"},{\"mode\":\"lines\",\"name\":\"Max Over 300 Seconds\",\"x\":[0,300],\"y\":[254,254],\"type\":\"scatter\"},{\"mode\":\"lines\",\"name\":\"95-th Percentile Over 300 Seconds\",\"x\":[0,300],\"y\":[226.05,226.05],\"type\":\"scatter\"}],                        {\"template\":{\"data\":{\"histogram2dcontour\":[{\"type\":\"histogram2dcontour\",\"colorbar\":{\"outlinewidth\":0,\"ticks\":\"\"},\"colorscale\":[[0.0,\"#0d0887\"],[0.1111111111111111,\"#46039f\"],[0.2222222222222222,\"#7201a8\"],[0.3333333333333333,\"#9c179e\"],[0.4444444444444444,\"#bd3786\"],[0.5555555555555556,\"#d8576b\"],[0.6666666666666666,\"#ed7953\"],[0.7777777777777778,\"#fb9f3a\"],[0.8888888888888888,\"#fdca26\"],[1.0,\"#f0f921\"]]}],\"choropleth\":[{\"type\":\"choropleth\",\"colorbar\":{\"outlinewidth\":0,\"ticks\":\"\"}}],\"histogram2d\":[{\"type\":\"histogram2d\",\"colorbar\":{\"outlinewidth\":0,\"ticks\":\"\"},\"colorscale\":[[0.0,\"#0d0887\"],[0.1111111111111111,\"#46039f\"],[0.2222222222222222,\"#7201a8\"],[0.3333333333333333,\"#9c179e\"],[0.4444444444444444,\"#bd3786\"],[0.5555555555555556,\"#d8576b\"],[0.6666666666666666,\"#ed7953\"],[0.7777777777777778,\"#fb9f3a\"],[0.8888888888888888,\"#fdca26\"],[1.0,\"#f0f921\"]]}],\"heatmap\":[{\"type\":\"heatmap\",\"colorbar\":{\"outlinewidth\":0,\"ticks\":\"\"},\"colorscale\":[[0.0,\"#0d0887\"],[0.1111111111111111,\"#46039f\"],[0.2222222222222222,\"#7201a8\"],[0.3333333333333333,\"#9c179e\"],[0.4444444444444444,\"#bd3786\"],[0.5555555555555556,\"#d8576b\"],[0.6666666666666666,\"#ed7953\"],[0.7777777777777778,\"#fb9f3a\"],[0.8888888888888888,\"#fdca26\"],[1.0,\"#f0f921\"]]}],\"heatmapgl\":[{\"type\":\"heatmapgl\",\"colorbar\":{\"outlinewidth\":0,\"ticks\":\"\"},\"colorscale\":[[0.0,\"#0d0887\"],[0.1111111111111111,\"#46039f\"],[0.2222222222222222,\"#7201a8\"],[0.3333333333333333,\"#9c179e\"],[0.4444444444444444,\"#bd3786\"],[0.5555555555555556,\"#d8576b\"],[0.6666666666666666,\"#ed7953\"],[0.7777777777777778,\"#fb9f3a\"],[0.8888888888888888,\"#fdca26\"],[1.0,\"#f0f921\"]]}],\"contourcarpet\":[{\"type\":\"contourcarpet\",\"colorbar\":{\"outlinewidth\":0,\"ticks\":\"\"}}],\"contour\":[{\"type\":\"contour\",\"colorbar\":{\"outlinewidth\":0,\"ticks\":\"\"},\"colorscale\":[[0.0,\"#0d0887\"],[0.1111111111111111,\"#46039f\"],[0.2222222222222222,\"#7201a8\"],[0.3333333333333333,\"#9c179e\"],[0.4444444444444444,\"#bd3786\"],[0.5555555555555556,\"#d8576b\"],[0.6666666666666666,\"#ed7953\"],[0.7777777777777778,\"#fb9f3a\"],[0.8888888888888888,\"#fdca26\"],[1.0,\"#f0f921\"]]}],\"surface\":[{\"type\":\"surface\",\"colorbar\":{\"outlinewidth\":0,\"ticks\":\"\"},\"colorscale\":[[0.0,\"#0d0887\"],[0.1111111111111111,\"#46039f\"],[0.2222222222222222,\"#7201a8\"],[0.3333333333333333,\"#9c179e\"],[0.4444444444444444,\"#bd3786\"],[0.5555555555555556,\"#d8576b\"],[0.6666666666666666,\"#ed7953\"],[0.7777777777777778,\"#fb9f3a\"],[0.8888888888888888,\"#fdca26\"],[1.0,\"#f0f921\"]]}],\"mesh3d\":[{\"type\":\"mesh3d\",\"colorbar\":{\"outlinewidth\":0,\"ticks\":\"\"}}],\"scatter\":[{\"fillpattern\":{\"fillmode\":\"overlay\",\"size\":10,\"solidity\":0.2},\"type\":\"scatter\"}],\"parcoords\":[{\"type\":\"parcoords\",\"line\":{\"colorbar\":{\"outlinewidth\":0,\"ticks\":\"\"}}}],\"scatterpolargl\":[{\"type\":\"scatterpolargl\",\"marker\":{\"colorbar\":{\"outlinewidth\":0,\"ticks\":\"\"}}}],\"bar\":[{\"error_x\":{\"color\":\"#2a3f5f\"},\"error_y\":{\"color\":\"#2a3f5f\"},\"marker\":{\"line\":{\"color\":\"#E5ECF6\",\"width\":0.5},\"pattern\":{\"fillmode\":\"overlay\",\"size\":10,\"solidity\":0.2}},\"type\":\"bar\"}],\"scattergeo\":[{\"type\":\"scattergeo\",\"marker\":{\"colorbar\":{\"outlinewidth\":0,\"ticks\":\"\"}}}],\"scatterpolar\":[{\"type\":\"scatterpolar\",\"marker\":{\"colorbar\":{\"outlinewidth\":0,\"ticks\":\"\"}}}],\"histogram\":[{\"marker\":{\"pattern\":{\"fillmode\":\"overlay\",\"size\":10,\"solidity\":0.2}},\"type\":\"histogram\"}],\"scattergl\":[{\"type\":\"scattergl\",\"marker\":{\"colorbar\":{\"outlinewidth\":0,\"ticks\":\"\"}}}],\"scatter3d\":[{\"type\":\"scatter3d\",\"line\":{\"colorbar\":{\"outlinewidth\":0,\"ticks\":\"\"}},\"marker\":{\"colorbar\":{\"outlinewidth\":0,\"ticks\":\"\"}}}],\"scattermapbox\":[{\"type\":\"scattermapbox\",\"marker\":{\"colorbar\":{\"outlinewidth\":0,\"ticks\":\"\"}}}],\"scatterternary\":[{\"type\":\"scatterternary\",\"marker\":{\"colorbar\":{\"outlinewidth\":0,\"ticks\":\"\"}}}],\"scattercarpet\":[{\"type\":\"scattercarpet\",\"marker\":{\"colorbar\":{\"outlinewidth\":0,\"ticks\":\"\"}}}],\"carpet\":[{\"aaxis\":{\"endlinecolor\":\"#2a3f5f\",\"gridcolor\":\"white\",\"linecolor\":\"white\",\"minorgridcolor\":\"white\",\"startlinecolor\":\"#2a3f5f\"},\"baxis\":{\"endlinecolor\":\"#2a3f5f\",\"gridcolor\":\"white\",\"linecolor\":\"white\",\"minorgridcolor\":\"white\",\"startlinecolor\":\"#2a3f5f\"},\"type\":\"carpet\"}],\"table\":[{\"cells\":{\"fill\":{\"color\":\"#EBF0F8\"},\"line\":{\"color\":\"white\"}},\"header\":{\"fill\":{\"color\":\"#C8D4E3\"},\"line\":{\"color\":\"white\"}},\"type\":\"table\"}],\"barpolar\":[{\"marker\":{\"line\":{\"color\":\"#E5ECF6\",\"width\":0.5},\"pattern\":{\"fillmode\":\"overlay\",\"size\":10,\"solidity\":0.2}},\"type\":\"barpolar\"}],\"pie\":[{\"automargin\":true,\"type\":\"pie\"}]},\"layout\":{\"autotypenumbers\":\"strict\",\"colorway\":[\"#636efa\",\"#EF553B\",\"#00cc96\",\"#ab63fa\",\"#FFA15A\",\"#19d3f3\",\"#FF6692\",\"#B6E880\",\"#FF97FF\",\"#FECB52\"],\"font\":{\"color\":\"#2a3f5f\"},\"hovermode\":\"closest\",\"hoverlabel\":{\"align\":\"left\"},\"paper_bgcolor\":\"white\",\"plot_bgcolor\":\"#E5ECF6\",\"polar\":{\"bgcolor\":\"#E5ECF6\",\"angularaxis\":{\"gridcolor\":\"white\",\"linecolor\":\"white\",\"ticks\":\"\"},\"radialaxis\":{\"gridcolor\":\"white\",\"linecolor\":\"white\",\"ticks\":\"\"}},\"ternary\":{\"bgcolor\":\"#E5ECF6\",\"aaxis\":{\"gridcolor\":\"white\",\"linecolor\":\"white\",\"ticks\":\"\"},\"baxis\":{\"gridcolor\":\"white\",\"linecolor\":\"white\",\"ticks\":\"\"},\"caxis\":{\"gridcolor\":\"white\",\"linecolor\":\"white\",\"ticks\":\"\"}},\"coloraxis\":{\"colorbar\":{\"outlinewidth\":0,\"ticks\":\"\"}},\"colorscale\":{\"sequential\":[[0.0,\"#0d0887\"],[0.1111111111111111,\"#46039f\"],[0.2222222222222222,\"#7201a8\"],[0.3333333333333333,\"#9c179e\"],[0.4444444444444444,\"#bd3786\"],[0.5555555555555556,\"#d8576b\"],[0.6666666666666666,\"#ed7953\"],[0.7777777777777778,\"#fb9f3a\"],[0.8888888888888888,\"#fdca26\"],[1.0,\"#f0f921\"]],\"sequentialminus\":[[0.0,\"#0d0887\"],[0.1111111111111111,\"#46039f\"],[0.2222222222222222,\"#7201a8\"],[0.3333333333333333,\"#9c179e\"],[0.4444444444444444,\"#bd3786\"],[0.5555555555555556,\"#d8576b\"],[0.6666666666666666,\"#ed7953\"],[0.7777777777777778,\"#fb9f3a\"],[0.8888888888888888,\"#fdca26\"],[1.0,\"#f0f921\"]],\"diverging\":[[0,\"#8e0152\"],[0.1,\"#c51b7d\"],[0.2,\"#de77ae\"],[0.3,\"#f1b6da\"],[0.4,\"#fde0ef\"],[0.5,\"#f7f7f7\"],[0.6,\"#e6f5d0\"],[0.7,\"#b8e186\"],[0.8,\"#7fbc41\"],[0.9,\"#4d9221\"],[1,\"#276419\"]]},\"xaxis\":{\"gridcolor\":\"white\",\"linecolor\":\"white\",\"ticks\":\"\",\"title\":{\"standoff\":15},\"zerolinecolor\":\"white\",\"automargin\":true,\"zerolinewidth\":2},\"yaxis\":{\"gridcolor\":\"white\",\"linecolor\":\"white\",\"ticks\":\"\",\"title\":{\"standoff\":15},\"zerolinecolor\":\"white\",\"automargin\":true,\"zerolinewidth\":2},\"scene\":{\"xaxis\":{\"backgroundcolor\":\"#E5ECF6\",\"gridcolor\":\"white\",\"linecolor\":\"white\",\"showbackground\":true,\"ticks\":\"\",\"zerolinecolor\":\"white\",\"gridwidth\":2},\"yaxis\":{\"backgroundcolor\":\"#E5ECF6\",\"gridcolor\":\"white\",\"linecolor\":\"white\",\"showbackground\":true,\"ticks\":\"\",\"zerolinecolor\":\"white\",\"gridwidth\":2},\"zaxis\":{\"backgroundcolor\":\"#E5ECF6\",\"gridcolor\":\"white\",\"linecolor\":\"white\",\"showbackground\":true,\"ticks\":\"\",\"zerolinecolor\":\"white\",\"gridwidth\":2}},\"shapedefaults\":{\"line\":{\"color\":\"#2a3f5f\"}},\"annotationdefaults\":{\"arrowcolor\":\"#2a3f5f\",\"arrowhead\":0,\"arrowwidth\":1},\"geo\":{\"bgcolor\":\"white\",\"landcolor\":\"#E5ECF6\",\"subunitcolor\":\"white\",\"showland\":true,\"showlakes\":true,\"lakecolor\":\"white\"},\"title\":{\"x\":0.05},\"mapbox\":{\"style\":\"light\"}}},\"xaxis\":{\"title\":{\"text\":\"Time (s)\"}},\"yaxis\":{\"title\":{\"text\":\"Request Rate (1\\u002fs)\"}}},                        {\"responsive\": true}                    ).then(function(){\n",
       "                            \n",
       "var gd = document.getElementById('36dc40be-5f11-4a1f-aabb-bf0d1d791d0a');\n",
       "var x = new MutationObserver(function (mutations, observer) {{\n",
       "        var display = window.getComputedStyle(gd).display;\n",
       "        if (!display || display === 'none') {{\n",
       "            console.log([gd, 'removed!']);\n",
       "            Plotly.purge(gd);\n",
       "            observer.disconnect();\n",
       "        }}\n",
       "}});\n",
       "\n",
       "// Listen for the removal of the full notebook cells\n",
       "var notebookContainer = gd.closest('#notebook-container');\n",
       "if (notebookContainer) {{\n",
       "    x.observe(notebookContainer, {childList: true});\n",
       "}}\n",
       "\n",
       "// Listen for the clearing of the current output cell\n",
       "var outputEl = gd.closest('.output');\n",
       "if (outputEl) {{\n",
       "    x.observe(outputEl, {childList: true});\n",
       "}}\n",
       "\n",
       "                        })                };                });            </script>        </div>"
      ]
     },
     "metadata": {},
     "output_type": "display_data"
    },
    {
     "name": "stdout",
     "output_type": "stream",
     "text": [
      "Distribution lambda: 200\n",
      "Actual average over 300 seconds: 200.19\n",
      "Actual max over 300 seconds: 254.00\n",
      "Actual 95-th Percentile over 300 seconds: 226.05\n",
      "The expected 95 of the peak in requests per second is 224.0\n"
     ]
    }
   ],
   "source": [
    "average_prompts_per_second_per_system = 200\n",
    "percentage_peak_requests = 95\n",
    "sz = 5*60 # how many seconds to simulate\n",
    "\n",
    "from scipy.stats import poisson\n",
    "import plotly.graph_objects as go\n",
    "import numpy as np\n",
    "\n",
    "rng = np.random.default_rng()\n",
    "x = np.arange(sz)\n",
    "y = rng.poisson(average_prompts_per_second_per_system, sz)\n",
    "\n",
    "y_avg = y.mean()\n",
    "y_max = y.max()\n",
    "y_percentile = np.percentile(y, percentage_peak_requests)\n",
    "\n",
    "fig = go.Figure()\n",
    "\n",
    "fig.add_trace(go.Scatter(\n",
    "    x=x,\n",
    "    y=y,\n",
    "    name='Actual Per Second Rate',\n",
    "))\n",
    "\n",
    "def add_constant(name, value):\n",
    "    fig.add_trace(go.Scatter(\n",
    "        x=[0, sz],\n",
    "        y=[value, value],\n",
    "        name=name,\n",
    "        mode=\"lines\"\n",
    "    ))\n",
    "\n",
    "add_constant(f\"Average Over {sz} Seconds\", y_avg)\n",
    "add_constant(f'Max Over {sz} Seconds', y_max)\n",
    "add_constant(f'{percentage_peak_requests}-th Percentile Over {sz} Seconds', y_percentile)\n",
    "\n",
    "fig.update_xaxes(title_text=\"Time (s)\")\n",
    "fig.update_yaxes(title_text=\"Request Rate (1/s)\")\n",
    "fig.show()\n",
    "\n",
    "print(f\"Distribution lambda: {average_prompts_per_second_per_system}\")\n",
    "print(f\"Actual average over {sz} seconds: {y_avg:.2f}\")\n",
    "print(f\"Actual max over {sz} seconds: {y_max:.2f}\")\n",
    "print(f\"Actual {percentage_peak_requests}-th Percentile over {sz} seconds: {y_percentile:.2f}\")\n",
    "poisson_estimation = poisson.ppf(percentage_peak_requests/100., average_prompts_per_second_per_system)\n",
    "print(f\"The expected {percentage_peak_requests} of the peak in requests per second is {poisson_estimation}\")\n",
    "\n"
   ]
  },
  {
   "cell_type": "markdown",
   "id": "9d0394bb",
   "metadata": {},
   "source": [
    "The difference between the average and the 95-th percentile is much more pronounced with the lower numbers. If your request rate is low enough, the effect of the peaks is more dramatic."
   ]
  },
  {
   "cell_type": "code",
   "execution_count": 30,
   "id": "6fa22e9e",
   "metadata": {},
   "outputs": [
    {
     "data": {
      "application/vnd.plotly.v1+json": {
       "config": {
        "plotlyServerURL": "https://plot.ly"
       },
       "data": [
        {
         "name": "95-th percentile",
         "type": "scatter",
         "x": [
          0.5,
          1,
          1.5,
          2,
          2.5,
          3,
          3.5,
          4,
          4.5,
          5,
          5.5,
          6,
          6.5,
          7,
          7.5,
          8,
          8.5,
          9,
          9.5,
          10,
          10.5,
          11,
          11.5,
          12,
          12.5,
          13,
          13.5,
          14,
          14.5,
          15,
          15.5,
          16,
          16.5,
          17,
          17.5,
          18,
          18.5,
          19,
          19.5,
          20,
          20.5,
          21,
          21.5,
          22,
          22.5,
          23,
          23.5,
          24,
          24.5,
          25,
          25.5,
          26,
          26.5,
          27,
          27.5,
          28,
          28.5,
          29,
          29.5,
          30,
          30.5,
          31,
          31.5,
          32,
          32.5,
          33,
          33.5,
          34,
          34.5,
          35,
          35.5,
          36,
          36.5,
          37,
          37.5,
          38,
          38.5,
          39,
          39.5,
          40,
          40.5,
          41,
          41.5,
          42,
          42.5,
          43,
          43.5,
          44,
          44.5,
          45,
          45.5,
          46,
          46.5,
          47,
          47.5,
          48,
          48.5,
          49,
          49.5
         ],
         "xaxis": "x",
         "y": [
          2,
          3,
          4,
          5,
          5,
          6,
          7,
          8,
          8,
          9,
          10,
          10,
          11,
          12,
          12,
          13,
          14,
          14,
          15,
          15,
          16,
          17,
          17,
          18,
          19,
          19,
          20,
          20,
          21,
          22,
          22,
          23,
          23,
          24,
          25,
          25,
          26,
          26,
          27,
          28,
          28,
          29,
          29,
          30,
          31,
          31,
          32,
          32,
          33,
          33,
          34,
          35,
          35,
          36,
          36,
          37,
          38,
          38,
          39,
          39,
          40,
          40,
          41,
          42,
          42,
          43,
          43,
          44,
          44,
          45,
          46,
          46,
          47,
          47,
          48,
          48,
          49,
          50,
          50,
          51,
          51,
          52,
          52,
          53,
          53,
          54,
          55,
          55,
          56,
          56,
          57,
          57,
          58,
          59,
          59,
          60,
          60,
          61,
          61
         ],
         "yaxis": "y2"
        },
        {
         "name": "95-th percentile to avg ratio",
         "type": "scatter",
         "x": [
          0.5,
          1,
          1.5,
          2,
          2.5,
          3,
          3.5,
          4,
          4.5,
          5,
          5.5,
          6,
          6.5,
          7,
          7.5,
          8,
          8.5,
          9,
          9.5,
          10,
          10.5,
          11,
          11.5,
          12,
          12.5,
          13,
          13.5,
          14,
          14.5,
          15,
          15.5,
          16,
          16.5,
          17,
          17.5,
          18,
          18.5,
          19,
          19.5,
          20,
          20.5,
          21,
          21.5,
          22,
          22.5,
          23,
          23.5,
          24,
          24.5,
          25,
          25.5,
          26,
          26.5,
          27,
          27.5,
          28,
          28.5,
          29,
          29.5,
          30,
          30.5,
          31,
          31.5,
          32,
          32.5,
          33,
          33.5,
          34,
          34.5,
          35,
          35.5,
          36,
          36.5,
          37,
          37.5,
          38,
          38.5,
          39,
          39.5,
          40,
          40.5,
          41,
          41.5,
          42,
          42.5,
          43,
          43.5,
          44,
          44.5,
          45,
          45.5,
          46,
          46.5,
          47,
          47.5,
          48,
          48.5,
          49,
          49.5
         ],
         "xaxis": "x",
         "y": [
          4,
          3,
          2.6666666666666665,
          2.5,
          2,
          2,
          2,
          2,
          1.7777777777777777,
          1.8,
          1.8181818181818181,
          1.6666666666666667,
          1.6923076923076923,
          1.7142857142857142,
          1.6,
          1.625,
          1.6470588235294117,
          1.5555555555555556,
          1.5789473684210527,
          1.5,
          1.5238095238095237,
          1.5454545454545454,
          1.4782608695652173,
          1.5,
          1.52,
          1.4615384615384615,
          1.4814814814814814,
          1.4285714285714286,
          1.4482758620689655,
          1.4666666666666666,
          1.4193548387096775,
          1.4375,
          1.393939393939394,
          1.411764705882353,
          1.4285714285714286,
          1.3888888888888888,
          1.4054054054054055,
          1.368421052631579,
          1.3846153846153846,
          1.4,
          1.3658536585365855,
          1.380952380952381,
          1.3488372093023255,
          1.3636363636363635,
          1.3777777777777778,
          1.3478260869565217,
          1.3617021276595744,
          1.3333333333333333,
          1.346938775510204,
          1.32,
          1.3333333333333333,
          1.3461538461538463,
          1.320754716981132,
          1.3333333333333333,
          1.309090909090909,
          1.3214285714285714,
          1.3333333333333333,
          1.3103448275862069,
          1.3220338983050848,
          1.3,
          1.3114754098360655,
          1.2903225806451613,
          1.3015873015873016,
          1.3125,
          1.2923076923076924,
          1.303030303030303,
          1.2835820895522387,
          1.2941176470588236,
          1.2753623188405796,
          1.2857142857142858,
          1.295774647887324,
          1.2777777777777777,
          1.2876712328767124,
          1.2702702702702702,
          1.28,
          1.263157894736842,
          1.2727272727272727,
          1.2820512820512822,
          1.2658227848101267,
          1.275,
          1.2592592592592593,
          1.2682926829268293,
          1.2530120481927711,
          1.2619047619047619,
          1.2470588235294118,
          1.255813953488372,
          1.264367816091954,
          1.25,
          1.2584269662921348,
          1.2444444444444445,
          1.2527472527472527,
          1.2391304347826086,
          1.2473118279569892,
          1.2553191489361701,
          1.2421052631578948,
          1.25,
          1.2371134020618557,
          1.2448979591836735,
          1.2323232323232323
         ],
         "yaxis": "y"
        }
       ],
       "layout": {
        "template": {
         "data": {
          "bar": [
           {
            "error_x": {
             "color": "#2a3f5f"
            },
            "error_y": {
             "color": "#2a3f5f"
            },
            "marker": {
             "line": {
              "color": "#E5ECF6",
              "width": 0.5
             },
             "pattern": {
              "fillmode": "overlay",
              "size": 10,
              "solidity": 0.2
             }
            },
            "type": "bar"
           }
          ],
          "barpolar": [
           {
            "marker": {
             "line": {
              "color": "#E5ECF6",
              "width": 0.5
             },
             "pattern": {
              "fillmode": "overlay",
              "size": 10,
              "solidity": 0.2
             }
            },
            "type": "barpolar"
           }
          ],
          "carpet": [
           {
            "aaxis": {
             "endlinecolor": "#2a3f5f",
             "gridcolor": "white",
             "linecolor": "white",
             "minorgridcolor": "white",
             "startlinecolor": "#2a3f5f"
            },
            "baxis": {
             "endlinecolor": "#2a3f5f",
             "gridcolor": "white",
             "linecolor": "white",
             "minorgridcolor": "white",
             "startlinecolor": "#2a3f5f"
            },
            "type": "carpet"
           }
          ],
          "choropleth": [
           {
            "colorbar": {
             "outlinewidth": 0,
             "ticks": ""
            },
            "type": "choropleth"
           }
          ],
          "contour": [
           {
            "colorbar": {
             "outlinewidth": 0,
             "ticks": ""
            },
            "colorscale": [
             [
              0,
              "#0d0887"
             ],
             [
              0.1111111111111111,
              "#46039f"
             ],
             [
              0.2222222222222222,
              "#7201a8"
             ],
             [
              0.3333333333333333,
              "#9c179e"
             ],
             [
              0.4444444444444444,
              "#bd3786"
             ],
             [
              0.5555555555555556,
              "#d8576b"
             ],
             [
              0.6666666666666666,
              "#ed7953"
             ],
             [
              0.7777777777777778,
              "#fb9f3a"
             ],
             [
              0.8888888888888888,
              "#fdca26"
             ],
             [
              1,
              "#f0f921"
             ]
            ],
            "type": "contour"
           }
          ],
          "contourcarpet": [
           {
            "colorbar": {
             "outlinewidth": 0,
             "ticks": ""
            },
            "type": "contourcarpet"
           }
          ],
          "heatmap": [
           {
            "colorbar": {
             "outlinewidth": 0,
             "ticks": ""
            },
            "colorscale": [
             [
              0,
              "#0d0887"
             ],
             [
              0.1111111111111111,
              "#46039f"
             ],
             [
              0.2222222222222222,
              "#7201a8"
             ],
             [
              0.3333333333333333,
              "#9c179e"
             ],
             [
              0.4444444444444444,
              "#bd3786"
             ],
             [
              0.5555555555555556,
              "#d8576b"
             ],
             [
              0.6666666666666666,
              "#ed7953"
             ],
             [
              0.7777777777777778,
              "#fb9f3a"
             ],
             [
              0.8888888888888888,
              "#fdca26"
             ],
             [
              1,
              "#f0f921"
             ]
            ],
            "type": "heatmap"
           }
          ],
          "heatmapgl": [
           {
            "colorbar": {
             "outlinewidth": 0,
             "ticks": ""
            },
            "colorscale": [
             [
              0,
              "#0d0887"
             ],
             [
              0.1111111111111111,
              "#46039f"
             ],
             [
              0.2222222222222222,
              "#7201a8"
             ],
             [
              0.3333333333333333,
              "#9c179e"
             ],
             [
              0.4444444444444444,
              "#bd3786"
             ],
             [
              0.5555555555555556,
              "#d8576b"
             ],
             [
              0.6666666666666666,
              "#ed7953"
             ],
             [
              0.7777777777777778,
              "#fb9f3a"
             ],
             [
              0.8888888888888888,
              "#fdca26"
             ],
             [
              1,
              "#f0f921"
             ]
            ],
            "type": "heatmapgl"
           }
          ],
          "histogram": [
           {
            "marker": {
             "pattern": {
              "fillmode": "overlay",
              "size": 10,
              "solidity": 0.2
             }
            },
            "type": "histogram"
           }
          ],
          "histogram2d": [
           {
            "colorbar": {
             "outlinewidth": 0,
             "ticks": ""
            },
            "colorscale": [
             [
              0,
              "#0d0887"
             ],
             [
              0.1111111111111111,
              "#46039f"
             ],
             [
              0.2222222222222222,
              "#7201a8"
             ],
             [
              0.3333333333333333,
              "#9c179e"
             ],
             [
              0.4444444444444444,
              "#bd3786"
             ],
             [
              0.5555555555555556,
              "#d8576b"
             ],
             [
              0.6666666666666666,
              "#ed7953"
             ],
             [
              0.7777777777777778,
              "#fb9f3a"
             ],
             [
              0.8888888888888888,
              "#fdca26"
             ],
             [
              1,
              "#f0f921"
             ]
            ],
            "type": "histogram2d"
           }
          ],
          "histogram2dcontour": [
           {
            "colorbar": {
             "outlinewidth": 0,
             "ticks": ""
            },
            "colorscale": [
             [
              0,
              "#0d0887"
             ],
             [
              0.1111111111111111,
              "#46039f"
             ],
             [
              0.2222222222222222,
              "#7201a8"
             ],
             [
              0.3333333333333333,
              "#9c179e"
             ],
             [
              0.4444444444444444,
              "#bd3786"
             ],
             [
              0.5555555555555556,
              "#d8576b"
             ],
             [
              0.6666666666666666,
              "#ed7953"
             ],
             [
              0.7777777777777778,
              "#fb9f3a"
             ],
             [
              0.8888888888888888,
              "#fdca26"
             ],
             [
              1,
              "#f0f921"
             ]
            ],
            "type": "histogram2dcontour"
           }
          ],
          "mesh3d": [
           {
            "colorbar": {
             "outlinewidth": 0,
             "ticks": ""
            },
            "type": "mesh3d"
           }
          ],
          "parcoords": [
           {
            "line": {
             "colorbar": {
              "outlinewidth": 0,
              "ticks": ""
             }
            },
            "type": "parcoords"
           }
          ],
          "pie": [
           {
            "automargin": true,
            "type": "pie"
           }
          ],
          "scatter": [
           {
            "fillpattern": {
             "fillmode": "overlay",
             "size": 10,
             "solidity": 0.2
            },
            "type": "scatter"
           }
          ],
          "scatter3d": [
           {
            "line": {
             "colorbar": {
              "outlinewidth": 0,
              "ticks": ""
             }
            },
            "marker": {
             "colorbar": {
              "outlinewidth": 0,
              "ticks": ""
             }
            },
            "type": "scatter3d"
           }
          ],
          "scattercarpet": [
           {
            "marker": {
             "colorbar": {
              "outlinewidth": 0,
              "ticks": ""
             }
            },
            "type": "scattercarpet"
           }
          ],
          "scattergeo": [
           {
            "marker": {
             "colorbar": {
              "outlinewidth": 0,
              "ticks": ""
             }
            },
            "type": "scattergeo"
           }
          ],
          "scattergl": [
           {
            "marker": {
             "colorbar": {
              "outlinewidth": 0,
              "ticks": ""
             }
            },
            "type": "scattergl"
           }
          ],
          "scattermapbox": [
           {
            "marker": {
             "colorbar": {
              "outlinewidth": 0,
              "ticks": ""
             }
            },
            "type": "scattermapbox"
           }
          ],
          "scatterpolar": [
           {
            "marker": {
             "colorbar": {
              "outlinewidth": 0,
              "ticks": ""
             }
            },
            "type": "scatterpolar"
           }
          ],
          "scatterpolargl": [
           {
            "marker": {
             "colorbar": {
              "outlinewidth": 0,
              "ticks": ""
             }
            },
            "type": "scatterpolargl"
           }
          ],
          "scatterternary": [
           {
            "marker": {
             "colorbar": {
              "outlinewidth": 0,
              "ticks": ""
             }
            },
            "type": "scatterternary"
           }
          ],
          "surface": [
           {
            "colorbar": {
             "outlinewidth": 0,
             "ticks": ""
            },
            "colorscale": [
             [
              0,
              "#0d0887"
             ],
             [
              0.1111111111111111,
              "#46039f"
             ],
             [
              0.2222222222222222,
              "#7201a8"
             ],
             [
              0.3333333333333333,
              "#9c179e"
             ],
             [
              0.4444444444444444,
              "#bd3786"
             ],
             [
              0.5555555555555556,
              "#d8576b"
             ],
             [
              0.6666666666666666,
              "#ed7953"
             ],
             [
              0.7777777777777778,
              "#fb9f3a"
             ],
             [
              0.8888888888888888,
              "#fdca26"
             ],
             [
              1,
              "#f0f921"
             ]
            ],
            "type": "surface"
           }
          ],
          "table": [
           {
            "cells": {
             "fill": {
              "color": "#EBF0F8"
             },
             "line": {
              "color": "white"
             }
            },
            "header": {
             "fill": {
              "color": "#C8D4E3"
             },
             "line": {
              "color": "white"
             }
            },
            "type": "table"
           }
          ]
         },
         "layout": {
          "annotationdefaults": {
           "arrowcolor": "#2a3f5f",
           "arrowhead": 0,
           "arrowwidth": 1
          },
          "autotypenumbers": "strict",
          "coloraxis": {
           "colorbar": {
            "outlinewidth": 0,
            "ticks": ""
           }
          },
          "colorscale": {
           "diverging": [
            [
             0,
             "#8e0152"
            ],
            [
             0.1,
             "#c51b7d"
            ],
            [
             0.2,
             "#de77ae"
            ],
            [
             0.3,
             "#f1b6da"
            ],
            [
             0.4,
             "#fde0ef"
            ],
            [
             0.5,
             "#f7f7f7"
            ],
            [
             0.6,
             "#e6f5d0"
            ],
            [
             0.7,
             "#b8e186"
            ],
            [
             0.8,
             "#7fbc41"
            ],
            [
             0.9,
             "#4d9221"
            ],
            [
             1,
             "#276419"
            ]
           ],
           "sequential": [
            [
             0,
             "#0d0887"
            ],
            [
             0.1111111111111111,
             "#46039f"
            ],
            [
             0.2222222222222222,
             "#7201a8"
            ],
            [
             0.3333333333333333,
             "#9c179e"
            ],
            [
             0.4444444444444444,
             "#bd3786"
            ],
            [
             0.5555555555555556,
             "#d8576b"
            ],
            [
             0.6666666666666666,
             "#ed7953"
            ],
            [
             0.7777777777777778,
             "#fb9f3a"
            ],
            [
             0.8888888888888888,
             "#fdca26"
            ],
            [
             1,
             "#f0f921"
            ]
           ],
           "sequentialminus": [
            [
             0,
             "#0d0887"
            ],
            [
             0.1111111111111111,
             "#46039f"
            ],
            [
             0.2222222222222222,
             "#7201a8"
            ],
            [
             0.3333333333333333,
             "#9c179e"
            ],
            [
             0.4444444444444444,
             "#bd3786"
            ],
            [
             0.5555555555555556,
             "#d8576b"
            ],
            [
             0.6666666666666666,
             "#ed7953"
            ],
            [
             0.7777777777777778,
             "#fb9f3a"
            ],
            [
             0.8888888888888888,
             "#fdca26"
            ],
            [
             1,
             "#f0f921"
            ]
           ]
          },
          "colorway": [
           "#636efa",
           "#EF553B",
           "#00cc96",
           "#ab63fa",
           "#FFA15A",
           "#19d3f3",
           "#FF6692",
           "#B6E880",
           "#FF97FF",
           "#FECB52"
          ],
          "font": {
           "color": "#2a3f5f"
          },
          "geo": {
           "bgcolor": "white",
           "lakecolor": "white",
           "landcolor": "#E5ECF6",
           "showlakes": true,
           "showland": true,
           "subunitcolor": "white"
          },
          "hoverlabel": {
           "align": "left"
          },
          "hovermode": "closest",
          "mapbox": {
           "style": "light"
          },
          "paper_bgcolor": "white",
          "plot_bgcolor": "#E5ECF6",
          "polar": {
           "angularaxis": {
            "gridcolor": "white",
            "linecolor": "white",
            "ticks": ""
           },
           "bgcolor": "#E5ECF6",
           "radialaxis": {
            "gridcolor": "white",
            "linecolor": "white",
            "ticks": ""
           }
          },
          "scene": {
           "xaxis": {
            "backgroundcolor": "#E5ECF6",
            "gridcolor": "white",
            "gridwidth": 2,
            "linecolor": "white",
            "showbackground": true,
            "ticks": "",
            "zerolinecolor": "white"
           },
           "yaxis": {
            "backgroundcolor": "#E5ECF6",
            "gridcolor": "white",
            "gridwidth": 2,
            "linecolor": "white",
            "showbackground": true,
            "ticks": "",
            "zerolinecolor": "white"
           },
           "zaxis": {
            "backgroundcolor": "#E5ECF6",
            "gridcolor": "white",
            "gridwidth": 2,
            "linecolor": "white",
            "showbackground": true,
            "ticks": "",
            "zerolinecolor": "white"
           }
          },
          "shapedefaults": {
           "line": {
            "color": "#2a3f5f"
           }
          },
          "ternary": {
           "aaxis": {
            "gridcolor": "white",
            "linecolor": "white",
            "ticks": ""
           },
           "baxis": {
            "gridcolor": "white",
            "linecolor": "white",
            "ticks": ""
           },
           "bgcolor": "#E5ECF6",
           "caxis": {
            "gridcolor": "white",
            "linecolor": "white",
            "ticks": ""
           }
          },
          "title": {
           "x": 0.05
          },
          "xaxis": {
           "automargin": true,
           "gridcolor": "white",
           "linecolor": "white",
           "ticks": "",
           "title": {
            "standoff": 15
           },
           "zerolinecolor": "white",
           "zerolinewidth": 2
          },
          "yaxis": {
           "automargin": true,
           "gridcolor": "white",
           "linecolor": "white",
           "ticks": "",
           "title": {
            "standoff": 15
           },
           "zerolinecolor": "white",
           "zerolinewidth": 2
          }
         }
        },
        "xaxis": {
         "anchor": "y",
         "domain": [
          0,
          0.94
         ],
         "title": {
          "text": "Request Rate (1/s)"
         }
        },
        "yaxis": {
         "anchor": "x",
         "domain": [
          0,
          1
         ],
         "title": {
          "text": "Ratio of p95 Request Rate to Avg"
         }
        },
        "yaxis2": {
         "anchor": "x",
         "overlaying": "y",
         "side": "right",
         "title": {
          "text": "p95 Request Rate (1/s)"
         }
        }
       }
      },
      "text/html": [
       "<div>                            <div id=\"95f0fc89-6fc1-40c1-a125-066acfafe5de\" class=\"plotly-graph-div\" style=\"height:525px; width:100%;\"></div>            <script type=\"text/javascript\">                require([\"plotly\"], function(Plotly) {                    window.PLOTLYENV=window.PLOTLYENV || {};                                    if (document.getElementById(\"95f0fc89-6fc1-40c1-a125-066acfafe5de\")) {                    Plotly.newPlot(                        \"95f0fc89-6fc1-40c1-a125-066acfafe5de\",                        [{\"name\":\"95-th percentile\",\"x\":[0.5,1.0,1.5,2.0,2.5,3.0,3.5,4.0,4.5,5.0,5.5,6.0,6.5,7.0,7.5,8.0,8.5,9.0,9.5,10.0,10.5,11.0,11.5,12.0,12.5,13.0,13.5,14.0,14.5,15.0,15.5,16.0,16.5,17.0,17.5,18.0,18.5,19.0,19.5,20.0,20.5,21.0,21.5,22.0,22.5,23.0,23.5,24.0,24.5,25.0,25.5,26.0,26.5,27.0,27.5,28.0,28.5,29.0,29.5,30.0,30.5,31.0,31.5,32.0,32.5,33.0,33.5,34.0,34.5,35.0,35.5,36.0,36.5,37.0,37.5,38.0,38.5,39.0,39.5,40.0,40.5,41.0,41.5,42.0,42.5,43.0,43.5,44.0,44.5,45.0,45.5,46.0,46.5,47.0,47.5,48.0,48.5,49.0,49.5],\"y\":[2.0,3.0,4.0,5.0,5.0,6.0,7.0,8.0,8.0,9.0,10.0,10.0,11.0,12.0,12.0,13.0,14.0,14.0,15.0,15.0,16.0,17.0,17.0,18.0,19.0,19.0,20.0,20.0,21.0,22.0,22.0,23.0,23.0,24.0,25.0,25.0,26.0,26.0,27.0,28.0,28.0,29.0,29.0,30.0,31.0,31.0,32.0,32.0,33.0,33.0,34.0,35.0,35.0,36.0,36.0,37.0,38.0,38.0,39.0,39.0,40.0,40.0,41.0,42.0,42.0,43.0,43.0,44.0,44.0,45.0,46.0,46.0,47.0,47.0,48.0,48.0,49.0,50.0,50.0,51.0,51.0,52.0,52.0,53.0,53.0,54.0,55.0,55.0,56.0,56.0,57.0,57.0,58.0,59.0,59.0,60.0,60.0,61.0,61.0],\"type\":\"scatter\",\"xaxis\":\"x\",\"yaxis\":\"y2\"},{\"name\":\"95-th percentile to avg ratio\",\"x\":[0.5,1.0,1.5,2.0,2.5,3.0,3.5,4.0,4.5,5.0,5.5,6.0,6.5,7.0,7.5,8.0,8.5,9.0,9.5,10.0,10.5,11.0,11.5,12.0,12.5,13.0,13.5,14.0,14.5,15.0,15.5,16.0,16.5,17.0,17.5,18.0,18.5,19.0,19.5,20.0,20.5,21.0,21.5,22.0,22.5,23.0,23.5,24.0,24.5,25.0,25.5,26.0,26.5,27.0,27.5,28.0,28.5,29.0,29.5,30.0,30.5,31.0,31.5,32.0,32.5,33.0,33.5,34.0,34.5,35.0,35.5,36.0,36.5,37.0,37.5,38.0,38.5,39.0,39.5,40.0,40.5,41.0,41.5,42.0,42.5,43.0,43.5,44.0,44.5,45.0,45.5,46.0,46.5,47.0,47.5,48.0,48.5,49.0,49.5],\"y\":[4.0,3.0,2.6666666666666665,2.5,2.0,2.0,2.0,2.0,1.7777777777777777,1.8,1.8181818181818181,1.6666666666666667,1.6923076923076923,1.7142857142857142,1.6,1.625,1.6470588235294117,1.5555555555555556,1.5789473684210527,1.5,1.5238095238095237,1.5454545454545454,1.4782608695652173,1.5,1.52,1.4615384615384615,1.4814814814814814,1.4285714285714286,1.4482758620689655,1.4666666666666666,1.4193548387096775,1.4375,1.393939393939394,1.411764705882353,1.4285714285714286,1.3888888888888888,1.4054054054054055,1.368421052631579,1.3846153846153846,1.4,1.3658536585365855,1.380952380952381,1.3488372093023255,1.3636363636363635,1.3777777777777778,1.3478260869565217,1.3617021276595744,1.3333333333333333,1.346938775510204,1.32,1.3333333333333333,1.3461538461538463,1.320754716981132,1.3333333333333333,1.309090909090909,1.3214285714285714,1.3333333333333333,1.3103448275862069,1.3220338983050848,1.3,1.3114754098360655,1.2903225806451613,1.3015873015873016,1.3125,1.2923076923076924,1.303030303030303,1.2835820895522387,1.2941176470588236,1.2753623188405796,1.2857142857142858,1.295774647887324,1.2777777777777777,1.2876712328767124,1.2702702702702702,1.28,1.263157894736842,1.2727272727272727,1.2820512820512822,1.2658227848101267,1.275,1.2592592592592593,1.2682926829268293,1.2530120481927711,1.2619047619047619,1.2470588235294118,1.255813953488372,1.264367816091954,1.25,1.2584269662921348,1.2444444444444445,1.2527472527472527,1.2391304347826086,1.2473118279569892,1.2553191489361701,1.2421052631578948,1.25,1.2371134020618557,1.2448979591836735,1.2323232323232323],\"type\":\"scatter\",\"xaxis\":\"x\",\"yaxis\":\"y\"}],                        {\"template\":{\"data\":{\"histogram2dcontour\":[{\"type\":\"histogram2dcontour\",\"colorbar\":{\"outlinewidth\":0,\"ticks\":\"\"},\"colorscale\":[[0.0,\"#0d0887\"],[0.1111111111111111,\"#46039f\"],[0.2222222222222222,\"#7201a8\"],[0.3333333333333333,\"#9c179e\"],[0.4444444444444444,\"#bd3786\"],[0.5555555555555556,\"#d8576b\"],[0.6666666666666666,\"#ed7953\"],[0.7777777777777778,\"#fb9f3a\"],[0.8888888888888888,\"#fdca26\"],[1.0,\"#f0f921\"]]}],\"choropleth\":[{\"type\":\"choropleth\",\"colorbar\":{\"outlinewidth\":0,\"ticks\":\"\"}}],\"histogram2d\":[{\"type\":\"histogram2d\",\"colorbar\":{\"outlinewidth\":0,\"ticks\":\"\"},\"colorscale\":[[0.0,\"#0d0887\"],[0.1111111111111111,\"#46039f\"],[0.2222222222222222,\"#7201a8\"],[0.3333333333333333,\"#9c179e\"],[0.4444444444444444,\"#bd3786\"],[0.5555555555555556,\"#d8576b\"],[0.6666666666666666,\"#ed7953\"],[0.7777777777777778,\"#fb9f3a\"],[0.8888888888888888,\"#fdca26\"],[1.0,\"#f0f921\"]]}],\"heatmap\":[{\"type\":\"heatmap\",\"colorbar\":{\"outlinewidth\":0,\"ticks\":\"\"},\"colorscale\":[[0.0,\"#0d0887\"],[0.1111111111111111,\"#46039f\"],[0.2222222222222222,\"#7201a8\"],[0.3333333333333333,\"#9c179e\"],[0.4444444444444444,\"#bd3786\"],[0.5555555555555556,\"#d8576b\"],[0.6666666666666666,\"#ed7953\"],[0.7777777777777778,\"#fb9f3a\"],[0.8888888888888888,\"#fdca26\"],[1.0,\"#f0f921\"]]}],\"heatmapgl\":[{\"type\":\"heatmapgl\",\"colorbar\":{\"outlinewidth\":0,\"ticks\":\"\"},\"colorscale\":[[0.0,\"#0d0887\"],[0.1111111111111111,\"#46039f\"],[0.2222222222222222,\"#7201a8\"],[0.3333333333333333,\"#9c179e\"],[0.4444444444444444,\"#bd3786\"],[0.5555555555555556,\"#d8576b\"],[0.6666666666666666,\"#ed7953\"],[0.7777777777777778,\"#fb9f3a\"],[0.8888888888888888,\"#fdca26\"],[1.0,\"#f0f921\"]]}],\"contourcarpet\":[{\"type\":\"contourcarpet\",\"colorbar\":{\"outlinewidth\":0,\"ticks\":\"\"}}],\"contour\":[{\"type\":\"contour\",\"colorbar\":{\"outlinewidth\":0,\"ticks\":\"\"},\"colorscale\":[[0.0,\"#0d0887\"],[0.1111111111111111,\"#46039f\"],[0.2222222222222222,\"#7201a8\"],[0.3333333333333333,\"#9c179e\"],[0.4444444444444444,\"#bd3786\"],[0.5555555555555556,\"#d8576b\"],[0.6666666666666666,\"#ed7953\"],[0.7777777777777778,\"#fb9f3a\"],[0.8888888888888888,\"#fdca26\"],[1.0,\"#f0f921\"]]}],\"surface\":[{\"type\":\"surface\",\"colorbar\":{\"outlinewidth\":0,\"ticks\":\"\"},\"colorscale\":[[0.0,\"#0d0887\"],[0.1111111111111111,\"#46039f\"],[0.2222222222222222,\"#7201a8\"],[0.3333333333333333,\"#9c179e\"],[0.4444444444444444,\"#bd3786\"],[0.5555555555555556,\"#d8576b\"],[0.6666666666666666,\"#ed7953\"],[0.7777777777777778,\"#fb9f3a\"],[0.8888888888888888,\"#fdca26\"],[1.0,\"#f0f921\"]]}],\"mesh3d\":[{\"type\":\"mesh3d\",\"colorbar\":{\"outlinewidth\":0,\"ticks\":\"\"}}],\"scatter\":[{\"fillpattern\":{\"fillmode\":\"overlay\",\"size\":10,\"solidity\":0.2},\"type\":\"scatter\"}],\"parcoords\":[{\"type\":\"parcoords\",\"line\":{\"colorbar\":{\"outlinewidth\":0,\"ticks\":\"\"}}}],\"scatterpolargl\":[{\"type\":\"scatterpolargl\",\"marker\":{\"colorbar\":{\"outlinewidth\":0,\"ticks\":\"\"}}}],\"bar\":[{\"error_x\":{\"color\":\"#2a3f5f\"},\"error_y\":{\"color\":\"#2a3f5f\"},\"marker\":{\"line\":{\"color\":\"#E5ECF6\",\"width\":0.5},\"pattern\":{\"fillmode\":\"overlay\",\"size\":10,\"solidity\":0.2}},\"type\":\"bar\"}],\"scattergeo\":[{\"type\":\"scattergeo\",\"marker\":{\"colorbar\":{\"outlinewidth\":0,\"ticks\":\"\"}}}],\"scatterpolar\":[{\"type\":\"scatterpolar\",\"marker\":{\"colorbar\":{\"outlinewidth\":0,\"ticks\":\"\"}}}],\"histogram\":[{\"marker\":{\"pattern\":{\"fillmode\":\"overlay\",\"size\":10,\"solidity\":0.2}},\"type\":\"histogram\"}],\"scattergl\":[{\"type\":\"scattergl\",\"marker\":{\"colorbar\":{\"outlinewidth\":0,\"ticks\":\"\"}}}],\"scatter3d\":[{\"type\":\"scatter3d\",\"line\":{\"colorbar\":{\"outlinewidth\":0,\"ticks\":\"\"}},\"marker\":{\"colorbar\":{\"outlinewidth\":0,\"ticks\":\"\"}}}],\"scattermapbox\":[{\"type\":\"scattermapbox\",\"marker\":{\"colorbar\":{\"outlinewidth\":0,\"ticks\":\"\"}}}],\"scatterternary\":[{\"type\":\"scatterternary\",\"marker\":{\"colorbar\":{\"outlinewidth\":0,\"ticks\":\"\"}}}],\"scattercarpet\":[{\"type\":\"scattercarpet\",\"marker\":{\"colorbar\":{\"outlinewidth\":0,\"ticks\":\"\"}}}],\"carpet\":[{\"aaxis\":{\"endlinecolor\":\"#2a3f5f\",\"gridcolor\":\"white\",\"linecolor\":\"white\",\"minorgridcolor\":\"white\",\"startlinecolor\":\"#2a3f5f\"},\"baxis\":{\"endlinecolor\":\"#2a3f5f\",\"gridcolor\":\"white\",\"linecolor\":\"white\",\"minorgridcolor\":\"white\",\"startlinecolor\":\"#2a3f5f\"},\"type\":\"carpet\"}],\"table\":[{\"cells\":{\"fill\":{\"color\":\"#EBF0F8\"},\"line\":{\"color\":\"white\"}},\"header\":{\"fill\":{\"color\":\"#C8D4E3\"},\"line\":{\"color\":\"white\"}},\"type\":\"table\"}],\"barpolar\":[{\"marker\":{\"line\":{\"color\":\"#E5ECF6\",\"width\":0.5},\"pattern\":{\"fillmode\":\"overlay\",\"size\":10,\"solidity\":0.2}},\"type\":\"barpolar\"}],\"pie\":[{\"automargin\":true,\"type\":\"pie\"}]},\"layout\":{\"autotypenumbers\":\"strict\",\"colorway\":[\"#636efa\",\"#EF553B\",\"#00cc96\",\"#ab63fa\",\"#FFA15A\",\"#19d3f3\",\"#FF6692\",\"#B6E880\",\"#FF97FF\",\"#FECB52\"],\"font\":{\"color\":\"#2a3f5f\"},\"hovermode\":\"closest\",\"hoverlabel\":{\"align\":\"left\"},\"paper_bgcolor\":\"white\",\"plot_bgcolor\":\"#E5ECF6\",\"polar\":{\"bgcolor\":\"#E5ECF6\",\"angularaxis\":{\"gridcolor\":\"white\",\"linecolor\":\"white\",\"ticks\":\"\"},\"radialaxis\":{\"gridcolor\":\"white\",\"linecolor\":\"white\",\"ticks\":\"\"}},\"ternary\":{\"bgcolor\":\"#E5ECF6\",\"aaxis\":{\"gridcolor\":\"white\",\"linecolor\":\"white\",\"ticks\":\"\"},\"baxis\":{\"gridcolor\":\"white\",\"linecolor\":\"white\",\"ticks\":\"\"},\"caxis\":{\"gridcolor\":\"white\",\"linecolor\":\"white\",\"ticks\":\"\"}},\"coloraxis\":{\"colorbar\":{\"outlinewidth\":0,\"ticks\":\"\"}},\"colorscale\":{\"sequential\":[[0.0,\"#0d0887\"],[0.1111111111111111,\"#46039f\"],[0.2222222222222222,\"#7201a8\"],[0.3333333333333333,\"#9c179e\"],[0.4444444444444444,\"#bd3786\"],[0.5555555555555556,\"#d8576b\"],[0.6666666666666666,\"#ed7953\"],[0.7777777777777778,\"#fb9f3a\"],[0.8888888888888888,\"#fdca26\"],[1.0,\"#f0f921\"]],\"sequentialminus\":[[0.0,\"#0d0887\"],[0.1111111111111111,\"#46039f\"],[0.2222222222222222,\"#7201a8\"],[0.3333333333333333,\"#9c179e\"],[0.4444444444444444,\"#bd3786\"],[0.5555555555555556,\"#d8576b\"],[0.6666666666666666,\"#ed7953\"],[0.7777777777777778,\"#fb9f3a\"],[0.8888888888888888,\"#fdca26\"],[1.0,\"#f0f921\"]],\"diverging\":[[0,\"#8e0152\"],[0.1,\"#c51b7d\"],[0.2,\"#de77ae\"],[0.3,\"#f1b6da\"],[0.4,\"#fde0ef\"],[0.5,\"#f7f7f7\"],[0.6,\"#e6f5d0\"],[0.7,\"#b8e186\"],[0.8,\"#7fbc41\"],[0.9,\"#4d9221\"],[1,\"#276419\"]]},\"xaxis\":{\"gridcolor\":\"white\",\"linecolor\":\"white\",\"ticks\":\"\",\"title\":{\"standoff\":15},\"zerolinecolor\":\"white\",\"automargin\":true,\"zerolinewidth\":2},\"yaxis\":{\"gridcolor\":\"white\",\"linecolor\":\"white\",\"ticks\":\"\",\"title\":{\"standoff\":15},\"zerolinecolor\":\"white\",\"automargin\":true,\"zerolinewidth\":2},\"scene\":{\"xaxis\":{\"backgroundcolor\":\"#E5ECF6\",\"gridcolor\":\"white\",\"linecolor\":\"white\",\"showbackground\":true,\"ticks\":\"\",\"zerolinecolor\":\"white\",\"gridwidth\":2},\"yaxis\":{\"backgroundcolor\":\"#E5ECF6\",\"gridcolor\":\"white\",\"linecolor\":\"white\",\"showbackground\":true,\"ticks\":\"\",\"zerolinecolor\":\"white\",\"gridwidth\":2},\"zaxis\":{\"backgroundcolor\":\"#E5ECF6\",\"gridcolor\":\"white\",\"linecolor\":\"white\",\"showbackground\":true,\"ticks\":\"\",\"zerolinecolor\":\"white\",\"gridwidth\":2}},\"shapedefaults\":{\"line\":{\"color\":\"#2a3f5f\"}},\"annotationdefaults\":{\"arrowcolor\":\"#2a3f5f\",\"arrowhead\":0,\"arrowwidth\":1},\"geo\":{\"bgcolor\":\"white\",\"landcolor\":\"#E5ECF6\",\"subunitcolor\":\"white\",\"showland\":true,\"showlakes\":true,\"lakecolor\":\"white\"},\"title\":{\"x\":0.05},\"mapbox\":{\"style\":\"light\"}}},\"xaxis\":{\"anchor\":\"y\",\"domain\":[0.0,0.94],\"title\":{\"text\":\"Request Rate (1\\u002fs)\"}},\"yaxis\":{\"anchor\":\"x\",\"domain\":[0.0,1.0],\"title\":{\"text\":\"Ratio of p95 Request Rate to Avg\"}},\"yaxis2\":{\"anchor\":\"x\",\"overlaying\":\"y\",\"side\":\"right\",\"title\":{\"text\":\"p95 Request Rate (1\\u002fs)\"}}},                        {\"responsive\": true}                    ).then(function(){\n",
       "                            \n",
       "var gd = document.getElementById('95f0fc89-6fc1-40c1-a125-066acfafe5de');\n",
       "var x = new MutationObserver(function (mutations, observer) {{\n",
       "        var display = window.getComputedStyle(gd).display;\n",
       "        if (!display || display === 'none') {{\n",
       "            console.log([gd, 'removed!']);\n",
       "            Plotly.purge(gd);\n",
       "            observer.disconnect();\n",
       "        }}\n",
       "}});\n",
       "\n",
       "// Listen for the removal of the full notebook cells\n",
       "var notebookContainer = gd.closest('#notebook-container');\n",
       "if (notebookContainer) {{\n",
       "    x.observe(notebookContainer, {childList: true});\n",
       "}}\n",
       "\n",
       "// Listen for the clearing of the current output cell\n",
       "var outputEl = gd.closest('.output');\n",
       "if (outputEl) {{\n",
       "    x.observe(outputEl, {childList: true});\n",
       "}}\n",
       "\n",
       "                        })                };                });            </script>        </div>"
      ]
     },
     "metadata": {},
     "output_type": "display_data"
    }
   ],
   "source": [
    "from scipy.stats import poisson\n",
    "import plotly.graph_objects as go\n",
    "import numpy as np\n",
    "from plotly.subplots import make_subplots\n",
    "\n",
    "\n",
    "percentage_peak_requests = 95\n",
    "\n",
    "poisson_lambda = np.arange(0.5, 50, 0.5)\n",
    "poisson_percentile = poisson.ppf(percentage_peak_requests/100., poisson_lambda)\n",
    "\n",
    "fig = make_subplots(rows=1, cols=1, specs=[[{\"secondary_y\": True}]])\n",
    "\n",
    "fig.add_trace(\n",
    "    go.Scatter(\n",
    "        x=poisson_lambda,\n",
    "        y=poisson_percentile,\n",
    "        name=f'{percentage_peak_requests}-th percentile',\n",
    "    ),\n",
    "    secondary_y=True,\n",
    ")\n",
    "\n",
    "fig.add_trace(\n",
    "    go.Scatter(\n",
    "        x=poisson_lambda,\n",
    "        y=poisson_percentile/poisson_lambda,\n",
    "        name=f'{percentage_peak_requests}-th percentile to avg ratio',\n",
    "    ),\n",
    "    secondary_y=False,\n",
    ")\n",
    "\n",
    "fig.update_xaxes(title_text=\"Request Rate (1/s)\")\n",
    "fig.update_yaxes(title_text=f\"p{percentage_peak_requests} Request Rate (1/s)\", secondary_y=True)\n",
    "fig.update_yaxes(title_text=f\"Ratio of p{percentage_peak_requests} Request Rate to Avg\", secondary_y=False)\n",
    "fig.show()\n",
    "\n"
   ]
  },
  {
   "cell_type": "markdown",
   "id": "9911d238",
   "metadata": {},
   "source": [
    "<br><hr>\n",
    "\n",
    "## **On-Premise Cost Per Year**\n",
    "\n",
    "**The on-prem annual cost is computed by adding up three elements:**\n",
    "\n",
    "1) **Price of purchasing the GPU server:** this price varies depending on the hardware provider and type of system. Usually, the price is amortized through various years. As a simplified depreciation model, we divide the total price by the number of years until it depreciates.\n",
    "\n",
    "2) **Datacenter cost to host the servers:** this includes costs related to electricity, renting of the space and building, staff, etc.\n",
    "\n",
    "3) **NVIDIA AI Enterprise License per GPU in the server:** NIMs are available to enterprises for production applications via a license, which has an annual cost.\n",
    "\n",
    "\n",
    "The following code exemplifies the three elements. Note that the input prices are an estimation in USD, and we recommend that you tweak them for your specific use case."
   ]
  },
  {
   "cell_type": "code",
   "execution_count": 31,
   "id": "4bb11978",
   "metadata": {},
   "outputs": [
    {
     "name": "stdout",
     "output_type": "stream",
     "text": [
      "The yearly on-prem cost for the required 4.8 servers is 572k USD\n"
     ]
    }
   ],
   "source": [
    "# Price of purchasing the GPU server\n",
    "cost_per_server = 320_000\n",
    "depreciation_period = 4 # in years\n",
    "cost_per_server_per_year = cost_per_server / depreciation_period\n",
    "\n",
    "# Datacenter hosting cost\n",
    "hosting_cost_per_year = 3_000\n",
    "\n",
    "# NVIDIA AI Enterprise License Cost per server\n",
    "number_of_gpus_in_server = 8\n",
    "price_of_license_per_year = 4500 # talk to your distributor to get a quote\n",
    "cost_of_licenses_per_year = number_of_gpus_in_server * price_of_license_per_year\n",
    "\n",
    "# Total on-prem cost per year\n",
    "cost_per_dgx = cost_per_server_per_year + hosting_cost_per_year + cost_of_licenses_per_year\n",
    "on_prem_cost_per_year = num_dgxs_needed * cost_per_dgx\n",
    "\n",
    "print(\n",
    "    f\"The yearly on-prem cost for the required {num_dgxs_needed:.1f} servers\"\n",
    "    f\" is {on_prem_cost_per_year/1000:.0f}k USD\"\n",
    ")"
   ]
  },
  {
   "cell_type": "markdown",
   "id": "81b8e24d",
   "metadata": {},
   "source": [
    "<br><hr>\n",
    "\n",
    "## **Cloud API Cost Per 1k Prompts**\n",
    "\n",
    "Several companies offer cloud APIs to call their managed models. The price model of their easy-to-use APIs is simple: they charge a fixed amount per input or output token, defined per each model. For example, one million input tokens of a particular model may cost 1 USD, whereas three million tokens cost 3 USD. This price model is simpler and more flexible compared to on-prem, but can lead to higher costs in the long term. In addition, there's less control about the latency and throughput of the prompts.\n",
    "\n",
    "Let's suppose that we want to estimate the cost of 1000 prompts, with 2000 input tokens and 200 output tokens. In the following code we estimate the cloud API costs, but we recommend that you tweak the input and output token costs to your specific cloud provider. Generally, output tokens are more expensive than input tokens."
   ]
  },
  {
   "cell_type": "code",
   "execution_count": 32,
   "id": "a1bca4f8",
   "metadata": {},
   "outputs": [
    {
     "name": "stdout",
     "output_type": "stream",
     "text": [
      "The cloud API price for 1000 prompts is 2.6 USD\n"
     ]
    }
   ],
   "source": [
    "# Price for input tokens\n",
    "cloud_api_cost_per_1M_input_tokens = 1\n",
    "input_len = 2000\n",
    "input_cost_per_1M_prompts = cloud_api_cost_per_1M_input_tokens * input_len\n",
    "\n",
    "# Price for output tokens\n",
    "cloud_api_cost_per_1M_output_tokens = 3\n",
    "output_len = 200\n",
    "output_cost_per_1M_prompts = cloud_api_cost_per_1M_output_tokens * output_len\n",
    "\n",
    "# Sum input and output cost\n",
    "cloud_api_cost_per_1k_prompts = (input_cost_per_1M_prompts + output_cost_per_1M_prompts) / 1000\n",
    "print(f\"The cloud API price for 1000 prompts is {cloud_api_cost_per_1k_prompts} USD\")"
   ]
  },
  {
   "cell_type": "markdown",
   "id": "0a275545",
   "metadata": {},
   "source": [
    "<br><hr>\n",
    "\n",
    "## **[EXERCISE] Comparing On-Prem vs Cloud Costs**\n",
    "\n",
    "Comparing on-prem (self-hosted) versus cloud-based (externally managed) costs is essential to make an educated choice between the two. \n",
    "\n",
    "**To have a fair comparison, we assume the following:**\n",
    "1. The models deployed on-prem and cloud-based are equivalent in quality.\n",
    "2. The latency and throughput achieved between on-prem and cloud-based are similar.\n",
    "\n",
    "The first step in the cost comparison is to compute the on-prem cost per 1000 prompts:"
   ]
  },
  {
   "cell_type": "code",
   "execution_count": 33,
   "id": "605721c1",
   "metadata": {},
   "outputs": [
    {
     "name": "stdout",
     "output_type": "stream",
     "text": [
      "The on-prem cost per 1000 prompts is 0.44 USD\n"
     ]
    }
   ],
   "source": [
    "# Compute prompts per year with on-prem configuration\n",
    "prompts_per_year_per_8_gpus = prompts_per_second_per_8_gpus * 3600 * 24 * 365\n",
    "\n",
    "# Compute cost per 1k on-prem prompts\n",
    "on_prem_cost_per_1k_prompts = on_prem_cost_per_year / prompts_per_year_per_8_gpus * 1000\n",
    "\n",
    "print(f\"The on-prem cost per 1000 prompts is {on_prem_cost_per_1k_prompts:.2f} USD\")"
   ]
  },
  {
   "cell_type": "markdown",
   "id": "3eb17dcb",
   "metadata": {},
   "source": [
    "This on-prem cost can be directly compared to the cloud API price for 1000 prompts:"
   ]
  },
  {
   "cell_type": "code",
   "execution_count": 34,
   "id": "36923ef6",
   "metadata": {},
   "outputs": [
    {
     "name": "stdout",
     "output_type": "stream",
     "text": [
      "The cloud API price for 1000 prompts is 2.6 USD\n"
     ]
    }
   ],
   "source": [
    "print(f\"The cloud API price for 1000 prompts is {cloud_api_cost_per_1k_prompts} USD\")"
   ]
  },
  {
   "cell_type": "markdown",
   "id": "49e0e882",
   "metadata": {},
   "source": [
    "For this particular use case, we see that on-prem offers a lower cost of 0.44 USD compared to on the cloud, which is 2.6 USD per 1k prompts.\n",
    "\n",
    "To deepen more into the analysis, we can also compare the price per input and output token that the cloud APIs offer, versus on-prem. Above we took the following values as an example:"
   ]
  },
  {
   "cell_type": "code",
   "execution_count": 35,
   "id": "21a17da4",
   "metadata": {},
   "outputs": [
    {
     "name": "stdout",
     "output_type": "stream",
     "text": [
      "The cloud API cost per 1M input tokens is 1 USD\n",
      "The cloud API cost per 1M output tokens is 3 USD\n"
     ]
    }
   ],
   "source": [
    "print(f\"The cloud API cost per 1M input tokens is {cloud_api_cost_per_1M_input_tokens} USD\")\n",
    "print(f\"The cloud API cost per 1M output tokens is {cloud_api_cost_per_1M_output_tokens} USD\")"
   ]
  },
  {
   "cell_type": "markdown",
   "id": "fcf799e6",
   "metadata": {},
   "source": [
    "Similarly, we would like to compute an on-prem cost per 1M input and output tokens. We refer to these two variables as `on_prem_cost_per_1M_input_tokens` and `on_prem_cost_per_1M_output_tokens`. To obtain these two variables, we consider two equations:\n",
    "\n",
    "1) Equation adding up the costs of 1M input tokens and 1M output tokens to obtain the cost of 1000 prompts:\n",
    "\n",
    "```\n",
    "on_prem_cost_per_1M_input_tokens * input_len\n",
    "+ on_prem_cost_per_1M_output_token * output_len\n",
    "= on_prem_cost_per_1k_prompts * 1000\n",
    "```\n",
    "\n",
    "2) Equivalence of cost ratios between input and output tokens. *Note, this is just an arbitrary assumption to simplify the comparison. There are multiple other ways to fix this ratio. For example, we could instead fix the cost ratio to the ratio of prefill and decoding latencies to approximate GPU utilization by the stages.*\n",
    "\n",
    "```\n",
    "cloud_api_cost_per_1M_input_tokens / cloud_api_cost_per_1M_output_tokens\n",
    "= on_prem_cost_per_1M_input_tokens / on_prem_cost_per_1M_output_token\n",
    "```\n",
    "\n",
    "This is a system of two equations with two unknown variables, `on_prem_cost_per_1M_input_tokens` and `on_prem_cost_per_1M_output_tokens`. Let's solve it in python using `sympy`, a popular symbolic mathematics library:"
   ]
  },
  {
   "cell_type": "code",
   "execution_count": 36,
   "id": "ced6b2ab",
   "metadata": {},
   "outputs": [
    {
     "name": "stdout",
     "output_type": "stream",
     "text": [
      "\n",
      "(Average) on_prem_cost_per_1k_prompts = 0.43609759223233935\n",
      "(Average) input_len = 2000\n",
      "(Average) output_len = 200\n",
      "cloud_api_cost_per_1M_input_tokens = 1\n",
      "cloud_api_cost_per_1M_output_tokens = 3\n",
      "\n",
      "The on-prem cost per 1M input tokens is 0.17 USD\n",
      "The on-prem cost per 1M output tokens is 0.50 USD\n"
     ]
    }
   ],
   "source": [
    "import sympy as sp\n",
    "\n",
    "def solve_cost_equations(\n",
    "    on_prem_cost_per_1k_prompts, \n",
    "    input_len, output_len, \n",
    "    cloud_api_cost_per_1M_input_tokens, \n",
    "    cloud_api_cost_per_1M_output_tokens,\n",
    "):\n",
    "    # Define the variables, which are represented symbolicallys\n",
    "    on_prem_cost_per_1M_input_tokens  = sp.symbols('on_prem_cost_per_1M_input_tokens')\n",
    "    on_prem_cost_per_1M_output_tokens = sp.symbols('on_prem_cost_per_1M_output_tokens')\n",
    "    var_symbols = on_prem_cost_per_1M_input_tokens, on_prem_cost_per_1M_output_tokens\n",
    "\n",
    "    ## Define the equations, which can incorporate both \n",
    "    ##    \"constant\" variables and \"symbolic\" variables\n",
    "\n",
    "    ## Equation 1, modeling the cost of 1000 prompts.\n",
    "    lhs = on_prem_cost_per_1M_output_tokens * output_len\n",
    "    lhs += on_prem_cost_per_1M_input_tokens * input_len \n",
    "    rhs = on_prem_cost_per_1k_prompts * 1000\n",
    "    eq1 = sp.Eq(lhs, rhs)\n",
    "\n",
    "    # TODO: Equation 2, modeling cost ratio of cloud vs on-prem\n",
    "    eq2 = sp.Eq(\n",
    "        ## TODO: LHS and RHS, can be done without extra variables\n",
    "        on_prem_cost_per_1M_input_tokens / on_prem_cost_per_1M_output_tokens,\n",
    "        cloud_api_cost_per_1M_input_tokens / cloud_api_cost_per_1M_output_tokens\n",
    "    )\n",
    "\n",
    "    # Solve the system of equations for the set of wanted symbols\n",
    "    solution = sp.solve((eq1, eq2), var_symbols)\n",
    "    \n",
    "    assert on_prem_cost_per_1M_input_tokens in solution, solution\n",
    "    assert on_prem_cost_per_1M_output_tokens in solution, solution\n",
    "    return {\n",
    "        'on_prem_cost_per_1M_input_tokens': solution[on_prem_cost_per_1M_input_tokens],\n",
    "        'on_prem_cost_per_1M_output_tokens': solution[on_prem_cost_per_1M_output_tokens]\n",
    "    }\n",
    "\n",
    "print(f\"\"\"\n",
    "(Average) {on_prem_cost_per_1k_prompts = }\n",
    "(Average) {input_len = }\n",
    "(Average) {output_len = }\n",
    "{cloud_api_cost_per_1M_input_tokens = }\n",
    "{cloud_api_cost_per_1M_output_tokens = }\n",
    "\"\"\")\n",
    "\n",
    "solution = solve_cost_equations(\n",
    "    on_prem_cost_per_1k_prompts, \n",
    "    input_len, output_len, \n",
    "    cloud_api_cost_per_1M_input_tokens, \n",
    "    cloud_api_cost_per_1M_output_tokens\n",
    ")\n",
    "\n",
    "print(f\"The on-prem cost per 1M input tokens is {solution['on_prem_cost_per_1M_input_tokens']:.2f} USD\")\n",
    "print(f\"The on-prem cost per 1M output tokens is {solution['on_prem_cost_per_1M_output_tokens']:.2f} USD\")"
   ]
  },
  {
   "cell_type": "markdown",
   "id": "368bb725-bf7e-48cd-bb1a-84dd7724ebdc",
   "metadata": {},
   "source": [
    "With these tools, you can compare the on-prem versus on the cloud costs of your inference LLM application. We hope you can make more informed decisions about the cost of your inference deployments from now on."
   ]
  }
 ],
 "metadata": {
  "kernelspec": {
   "display_name": "Python 3",
   "language": "python",
   "name": "python3"
  },
  "language_info": {
   "codemirror_mode": {
    "name": "ipython",
    "version": 3
   },
   "file_extension": ".py",
   "mimetype": "text/x-python",
   "name": "python",
   "nbconvert_exporter": "python",
   "pygments_lexer": "ipython3",
   "version": "3.12.1"
  }
 },
 "nbformat": 4,
 "nbformat_minor": 5
}
